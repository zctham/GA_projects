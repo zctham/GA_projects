{
 "cells": [
  {
   "cell_type": "markdown",
   "id": "833ab295",
   "metadata": {},
   "source": [
    "# Project 3 : Web APIs and NLP"
   ]
  },
  {
   "cell_type": "markdown",
   "id": "5b42c23f",
   "metadata": {},
   "source": [
    "## Introduction"
   ]
  },
  {
   "cell_type": "markdown",
   "id": "6028f2a2",
   "metadata": {},
   "source": []
  },
  {
   "cell_type": "markdown",
   "id": "c116b65e",
   "metadata": {},
   "source": [
    "## Problem Statement"
   ]
  },
  {
   "cell_type": "markdown",
   "id": "cb9c99ba",
   "metadata": {},
   "source": []
  },
  {
   "cell_type": "markdown",
   "id": "f0a45d50",
   "metadata": {},
   "source": [
    "## Executive Summary"
   ]
  },
  {
   "cell_type": "markdown",
   "id": "53413d87",
   "metadata": {},
   "source": []
  },
  {
   "cell_type": "code",
   "execution_count": 1,
   "id": "070b32a3",
   "metadata": {},
   "outputs": [],
   "source": [
    "# Importing libraries\n",
    "\n",
    "import pandas as pd\n",
    "import requests, time, math\n",
    "\n",
    "pd.set_option('display.max_columns', None)\n",
    "pd.set_option('display.max_rows', None)"
   ]
  },
  {
   "cell_type": "code",
   "execution_count": 2,
   "id": "60ae9841",
   "metadata": {},
   "outputs": [],
   "source": [
    "# Function to scrape reddit posts with arguments subreddit, number of counts and epoch number\n",
    "\n",
    "def subreddit_scrapper(subreddit, postcount, before):\n",
    "    # Empty list to append all posts\n",
    "    postlist = []\n",
    "    \n",
    "    # For-loop to get posts    \n",
    "    for num in range((postcount//100)):\n",
    "        base_url = 'https://api.pushshift.io/reddit/search/submission'\n",
    "        params = {\n",
    "        'subreddit': subreddit,\n",
    "        'size': 100,\n",
    "        'before': before\n",
    "        }\n",
    "        \n",
    "        # Requests get using defined parameters\n",
    "        res = requests.get(base_url, params)\n",
    "        \n",
    "        # Convert data to .json and append to empty list\n",
    "        data = res.json()\n",
    "        posts = data['data']\n",
    "        postlist.extend(posts)\n",
    "        \n",
    "        # Set new 'before' to get new 'before' posts\n",
    "        before = posts[-1]['created_utc']\n",
    "        \n",
    "    print(f'{len(postlist)} number of posts scrapped from {subreddit}.')    \n",
    "    return postlist"
   ]
  },
  {
   "cell_type": "code",
   "execution_count": 10,
   "id": "fe10937c",
   "metadata": {},
   "outputs": [
    {
     "name": "stdout",
     "output_type": "stream",
     "text": [
      "1198 number of posts scrapped from classicalmusic.\n",
      "1200 number of posts scrapped from Jazz.\n",
      "Wall time: 2min 21s\n"
     ]
    }
   ],
   "source": [
    "%%time\n",
    "\n",
    "# Apply function to scrape data from respective subreddits\n",
    "classical = subreddit_scrapper('classicalmusic', postcount = 1200, before = 1642060546)\n",
    "jazz = subreddit_scrapper('Jazz',postcount = 1200, before = 1642060546)"
   ]
  },
  {
   "cell_type": "code",
   "execution_count": 11,
   "id": "1219bf7f",
   "metadata": {},
   "outputs": [],
   "source": [
    "# Converting scraped data to DataFrames\n",
    "\n",
    "class_df = pd.DataFrame(classical)\n",
    "jazz_df = pd.DataFrame(jazz)"
   ]
  },
  {
   "cell_type": "code",
   "execution_count": 12,
   "id": "27415b98",
   "metadata": {},
   "outputs": [],
   "source": [
    "# Exporting data\n",
    "\n",
    "class_df.to_csv('./data/classical.csv', index = False)\n",
    "jazz_df.to_csv('./data/jazz.csv', index = False)"
   ]
  },
  {
   "cell_type": "code",
   "execution_count": null,
   "id": "f568750c",
   "metadata": {},
   "outputs": [],
   "source": []
  }
 ],
 "metadata": {
  "kernelspec": {
   "display_name": "Python 3",
   "language": "python",
   "name": "python3"
  },
  "language_info": {
   "codemirror_mode": {
    "name": "ipython",
    "version": 3
   },
   "file_extension": ".py",
   "mimetype": "text/x-python",
   "name": "python",
   "nbconvert_exporter": "python",
   "pygments_lexer": "ipython3",
   "version": "3.8.8"
  },
  "varInspector": {
   "cols": {
    "lenName": 16,
    "lenType": 16,
    "lenVar": 40
   },
   "kernels_config": {
    "python": {
     "delete_cmd_postfix": "",
     "delete_cmd_prefix": "del ",
     "library": "var_list.py",
     "varRefreshCmd": "print(var_dic_list())"
    },
    "r": {
     "delete_cmd_postfix": ") ",
     "delete_cmd_prefix": "rm(",
     "library": "var_list.r",
     "varRefreshCmd": "cat(var_dic_list()) "
    }
   },
   "types_to_exclude": [
    "module",
    "function",
    "builtin_function_or_method",
    "instance",
    "_Feature"
   ],
   "window_display": false
  }
 },
 "nbformat": 4,
 "nbformat_minor": 5
}
