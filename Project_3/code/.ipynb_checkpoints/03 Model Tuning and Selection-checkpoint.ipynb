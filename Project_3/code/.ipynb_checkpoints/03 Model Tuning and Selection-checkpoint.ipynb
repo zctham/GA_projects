{
 "cells": [
  {
   "cell_type": "markdown",
   "id": "23b2cca7",
   "metadata": {},
   "source": [
    "# Project 3: Web APIs and NLP"
   ]
  },
  {
   "cell_type": "markdown",
   "id": "5ae43e4d",
   "metadata": {},
   "source": [
    "## Introduction\n",
    "\n",
    "In this notebook, we will be covering the following:\n",
    "\n",
    "1. [Modelling](#Modelling)\n",
    "2. [Model Evaluation](#Model_Evaluation)\n",
    "3. [Findings](#Findings)\n",
    "4. [Conclusion and Recommendation](#Conclusion_and_Recommendation)"
   ]
  },
  {
   "cell_type": "code",
   "execution_count": 1,
   "id": "6fed98e8",
   "metadata": {},
   "outputs": [],
   "source": [
    "# Import libraries\n",
    "\n",
    "import pandas as pd\n",
    "import numpy as np\n",
    "import matplotlib.pyplot as plt\n",
    "import seaborn as sns\n",
    "import math\n",
    "\n",
    "import warnings\n",
    "warnings.filterwarnings(\"ignore\")\n",
    "\n",
    "from sklearn.feature_extraction.text import CountVectorizer, TfidfVectorizer\n",
    "from sklearn.model_selection import train_test_split, GridSearchCV\n",
    "from sklearn.pipeline import Pipeline\n",
    "from sklearn.linear_model import LogisticRegression\n",
    "from sklearn.naive_bayes import MultinomialNB\n",
    "from sklearn.metrics import confusion_matrix, plot_confusion_matrix, classification_report, plot_roc_curve, roc_auc_score\n",
    "from sklearn.ensemble import RandomForestClassifier\n",
    "\n",
    "from nltk.tokenize import sent_tokenize, word_tokenize, RegexpTokenizer          \n",
    "from nltk.stem import WordNetLemmatizer\n",
    "from nltk.corpus import stopwords\n",
    "import regex as re\n",
    "\n",
    "import time\n",
    "\n",
    "#pd.set_option('display.max_rows', None)"
   ]
  },
  {
   "cell_type": "code",
   "execution_count": 2,
   "id": "b7eccf86",
   "metadata": {},
   "outputs": [],
   "source": [
    "# Excerpt from https://scikit-learn.org/stable/modules/feature_extraction.html\n",
    "\n",
    "# Create a class for lemmatizer for use in hyperparameter tuning\n",
    "class LemmaTokenizer(object):\n",
    "    \n",
    "    def __init__(self):\n",
    "        self.wnl = WordNetLemmatizer()\n",
    "    def __call__(self, doc):\n",
    "        return [self.wnl.lemmatize(t) for t in word_tokenize(doc)]"
   ]
  },
  {
   "cell_type": "code",
   "execution_count": 3,
   "id": "63176064",
   "metadata": {},
   "outputs": [],
   "source": [
    "# Importing dataframes\n",
    "\n",
    "df_comb = pd.read_csv('../data/data_comb.csv')"
   ]
  },
  {
   "cell_type": "code",
   "execution_count": 4,
   "id": "b5303009",
   "metadata": {},
   "outputs": [
    {
     "data": {
      "text/html": [
       "<div>\n",
       "<style scoped>\n",
       "    .dataframe tbody tr th:only-of-type {\n",
       "        vertical-align: middle;\n",
       "    }\n",
       "\n",
       "    .dataframe tbody tr th {\n",
       "        vertical-align: top;\n",
       "    }\n",
       "\n",
       "    .dataframe thead th {\n",
       "        text-align: right;\n",
       "    }\n",
       "</style>\n",
       "<table border=\"1\" class=\"dataframe\">\n",
       "  <thead>\n",
       "    <tr style=\"text-align: right;\">\n",
       "      <th></th>\n",
       "      <th>title</th>\n",
       "      <th>selftext</th>\n",
       "      <th>subreddit</th>\n",
       "      <th>title lemmatized</th>\n",
       "      <th>selftext lemmatized</th>\n",
       "    </tr>\n",
       "  </thead>\n",
       "  <tbody>\n",
       "    <tr>\n",
       "      <th>0</th>\n",
       "      <td>edge regression with edge features in graph ne...</td>\n",
       "      <td>hey guys working on gnn to do edge regression ...</td>\n",
       "      <td>1</td>\n",
       "      <td>edge regression with edge feature in graph neu...</td>\n",
       "      <td>hey guy working on gnn to do edge regression u...</td>\n",
       "    </tr>\n",
       "    <tr>\n",
       "      <th>1</th>\n",
       "      <td>aspiring to be data analyst</td>\n",
       "      <td>can someone suggest me how should study data s...</td>\n",
       "      <td>1</td>\n",
       "      <td>aspiring to be data analyst</td>\n",
       "      <td>can someone suggest me how should study data s...</td>\n",
       "    </tr>\n",
       "    <tr>\n",
       "      <th>2</th>\n",
       "      <td>how to build your own chatbot in python using ...</td>\n",
       "      <td>how to build your own chatbot in python using ...</td>\n",
       "      <td>1</td>\n",
       "      <td>how to build your own chatbot in python using ...</td>\n",
       "      <td>how to build your own chatbot in python using ...</td>\n",
       "    </tr>\n",
       "    <tr>\n",
       "      <th>3</th>\n",
       "      <td>ds bi graduate certificates vs masters of ds c...</td>\n",
       "      <td>as title says know most people in the ds field...</td>\n",
       "      <td>1</td>\n",
       "      <td>d bi graduate certificate v master of d c degree</td>\n",
       "      <td>a title say know most people in the d field lo...</td>\n",
       "    </tr>\n",
       "    <tr>\n",
       "      <th>4</th>\n",
       "      <td>target salary for fresh phd grad in stats</td>\n",
       "      <td>hi all graduating from my phd in few months an...</td>\n",
       "      <td>1</td>\n",
       "      <td>target salary for fresh phd grad in stats</td>\n",
       "      <td>hi all graduating from my phd in few month and...</td>\n",
       "    </tr>\n",
       "  </tbody>\n",
       "</table>\n",
       "</div>"
      ],
      "text/plain": [
       "                                               title  \\\n",
       "0  edge regression with edge features in graph ne...   \n",
       "1                        aspiring to be data analyst   \n",
       "2  how to build your own chatbot in python using ...   \n",
       "3  ds bi graduate certificates vs masters of ds c...   \n",
       "4          target salary for fresh phd grad in stats   \n",
       "\n",
       "                                            selftext  subreddit  \\\n",
       "0  hey guys working on gnn to do edge regression ...          1   \n",
       "1  can someone suggest me how should study data s...          1   \n",
       "2  how to build your own chatbot in python using ...          1   \n",
       "3  as title says know most people in the ds field...          1   \n",
       "4  hi all graduating from my phd in few months an...          1   \n",
       "\n",
       "                                    title lemmatized  \\\n",
       "0  edge regression with edge feature in graph neu...   \n",
       "1                        aspiring to be data analyst   \n",
       "2  how to build your own chatbot in python using ...   \n",
       "3   d bi graduate certificate v master of d c degree   \n",
       "4          target salary for fresh phd grad in stats   \n",
       "\n",
       "                                 selftext lemmatized  \n",
       "0  hey guy working on gnn to do edge regression u...  \n",
       "1  can someone suggest me how should study data s...  \n",
       "2  how to build your own chatbot in python using ...  \n",
       "3  a title say know most people in the d field lo...  \n",
       "4  hi all graduating from my phd in few month and...  "
      ]
     },
     "execution_count": 4,
     "metadata": {},
     "output_type": "execute_result"
    }
   ],
   "source": [
    "df_comb.head()"
   ]
  },
  {
   "cell_type": "code",
   "execution_count": 5,
   "id": "fc976d27",
   "metadata": {},
   "outputs": [
    {
     "data": {
      "text/html": [
       "<div>\n",
       "<style scoped>\n",
       "    .dataframe tbody tr th:only-of-type {\n",
       "        vertical-align: middle;\n",
       "    }\n",
       "\n",
       "    .dataframe tbody tr th {\n",
       "        vertical-align: top;\n",
       "    }\n",
       "\n",
       "    .dataframe thead th {\n",
       "        text-align: right;\n",
       "    }\n",
       "</style>\n",
       "<table border=\"1\" class=\"dataframe\">\n",
       "  <thead>\n",
       "    <tr style=\"text-align: right;\">\n",
       "      <th></th>\n",
       "      <th>title</th>\n",
       "      <th>selftext</th>\n",
       "      <th>subreddit</th>\n",
       "      <th>title lemmatized</th>\n",
       "      <th>selftext lemmatized</th>\n",
       "    </tr>\n",
       "  </thead>\n",
       "  <tbody>\n",
       "    <tr>\n",
       "      <th>0</th>\n",
       "      <td>edge regression with edge features in graph ne...</td>\n",
       "      <td>hey guys working on gnn to do edge regression ...</td>\n",
       "      <td>1</td>\n",
       "      <td>edge regression with edge feature in graph neu...</td>\n",
       "      <td>hey guy working on gnn to do edge regression u...</td>\n",
       "    </tr>\n",
       "    <tr>\n",
       "      <th>1</th>\n",
       "      <td>aspiring to be data analyst</td>\n",
       "      <td>can someone suggest me how should study data s...</td>\n",
       "      <td>1</td>\n",
       "      <td>aspiring to be data analyst</td>\n",
       "      <td>can someone suggest me how should study data s...</td>\n",
       "    </tr>\n",
       "    <tr>\n",
       "      <th>2</th>\n",
       "      <td>how to build your own chatbot in python using ...</td>\n",
       "      <td>how to build your own chatbot in python using ...</td>\n",
       "      <td>1</td>\n",
       "      <td>how to build your own chatbot in python using ...</td>\n",
       "      <td>how to build your own chatbot in python using ...</td>\n",
       "    </tr>\n",
       "    <tr>\n",
       "      <th>3</th>\n",
       "      <td>ds bi graduate certificates vs masters of ds c...</td>\n",
       "      <td>as title says know most people in the ds field...</td>\n",
       "      <td>1</td>\n",
       "      <td>d bi graduate certificate v master of d c degree</td>\n",
       "      <td>a title say know most people in the d field lo...</td>\n",
       "    </tr>\n",
       "    <tr>\n",
       "      <th>4</th>\n",
       "      <td>target salary for fresh phd grad in stats</td>\n",
       "      <td>hi all graduating from my phd in few months an...</td>\n",
       "      <td>1</td>\n",
       "      <td>target salary for fresh phd grad in stats</td>\n",
       "      <td>hi all graduating from my phd in few month and...</td>\n",
       "    </tr>\n",
       "    <tr>\n",
       "      <th>...</th>\n",
       "      <td>...</td>\n",
       "      <td>...</td>\n",
       "      <td>...</td>\n",
       "      <td>...</td>\n",
       "      <td>...</td>\n",
       "    </tr>\n",
       "    <tr>\n",
       "      <th>1896</th>\n",
       "      <td>made pancakedb new type of columnar db that us...</td>\n",
       "      <td>made pancakedb new type of columnar db that us...</td>\n",
       "      <td>0</td>\n",
       "      <td>made pancakedb new type of columnar db that us...</td>\n",
       "      <td>made pancakedb new type of columnar db that us...</td>\n",
       "    </tr>\n",
       "    <tr>\n",
       "      <th>1897</th>\n",
       "      <td>how to replace all values with one integer and...</td>\n",
       "      <td>basically binning or other as thanks</td>\n",
       "      <td>0</td>\n",
       "      <td>how to replace all value with one integer and ...</td>\n",
       "      <td>basically binning or other a thanks</td>\n",
       "    </tr>\n",
       "    <tr>\n",
       "      <th>1898</th>\n",
       "      <td>how to switch from etl testing role to de role</td>\n",
       "      <td>have years of work experience in etl testing a...</td>\n",
       "      <td>0</td>\n",
       "      <td>how to switch from etl testing role to de role</td>\n",
       "      <td>have year of work experience in etl testing an...</td>\n",
       "    </tr>\n",
       "    <tr>\n",
       "      <th>1899</th>\n",
       "      <td>has anyone done an aws live classroom training...</td>\n",
       "      <td>specifically asking for the data warehousing o...</td>\n",
       "      <td>0</td>\n",
       "      <td>ha anyone done an aws live classroom training ...</td>\n",
       "      <td>specifically asking for the data warehousing o...</td>\n",
       "    </tr>\n",
       "    <tr>\n",
       "      <th>1900</th>\n",
       "      <td>options for client data retrieval etl</td>\n",
       "      <td>we are planning to build product to provide da...</td>\n",
       "      <td>0</td>\n",
       "      <td>option for client data retrieval etl</td>\n",
       "      <td>we are planning to build product to provide da...</td>\n",
       "    </tr>\n",
       "  </tbody>\n",
       "</table>\n",
       "<p>1901 rows × 5 columns</p>\n",
       "</div>"
      ],
      "text/plain": [
       "                                                  title  \\\n",
       "0     edge regression with edge features in graph ne...   \n",
       "1                           aspiring to be data analyst   \n",
       "2     how to build your own chatbot in python using ...   \n",
       "3     ds bi graduate certificates vs masters of ds c...   \n",
       "4             target salary for fresh phd grad in stats   \n",
       "...                                                 ...   \n",
       "1896  made pancakedb new type of columnar db that us...   \n",
       "1897  how to replace all values with one integer and...   \n",
       "1898     how to switch from etl testing role to de role   \n",
       "1899  has anyone done an aws live classroom training...   \n",
       "1900              options for client data retrieval etl   \n",
       "\n",
       "                                               selftext  subreddit  \\\n",
       "0     hey guys working on gnn to do edge regression ...          1   \n",
       "1     can someone suggest me how should study data s...          1   \n",
       "2     how to build your own chatbot in python using ...          1   \n",
       "3     as title says know most people in the ds field...          1   \n",
       "4     hi all graduating from my phd in few months an...          1   \n",
       "...                                                 ...        ...   \n",
       "1896  made pancakedb new type of columnar db that us...          0   \n",
       "1897               basically binning or other as thanks          0   \n",
       "1898  have years of work experience in etl testing a...          0   \n",
       "1899  specifically asking for the data warehousing o...          0   \n",
       "1900  we are planning to build product to provide da...          0   \n",
       "\n",
       "                                       title lemmatized  \\\n",
       "0     edge regression with edge feature in graph neu...   \n",
       "1                           aspiring to be data analyst   \n",
       "2     how to build your own chatbot in python using ...   \n",
       "3      d bi graduate certificate v master of d c degree   \n",
       "4             target salary for fresh phd grad in stats   \n",
       "...                                                 ...   \n",
       "1896  made pancakedb new type of columnar db that us...   \n",
       "1897  how to replace all value with one integer and ...   \n",
       "1898     how to switch from etl testing role to de role   \n",
       "1899  ha anyone done an aws live classroom training ...   \n",
       "1900               option for client data retrieval etl   \n",
       "\n",
       "                                    selftext lemmatized  \n",
       "0     hey guy working on gnn to do edge regression u...  \n",
       "1     can someone suggest me how should study data s...  \n",
       "2     how to build your own chatbot in python using ...  \n",
       "3     a title say know most people in the d field lo...  \n",
       "4     hi all graduating from my phd in few month and...  \n",
       "...                                                 ...  \n",
       "1896  made pancakedb new type of columnar db that us...  \n",
       "1897                basically binning or other a thanks  \n",
       "1898  have year of work experience in etl testing an...  \n",
       "1899  specifically asking for the data warehousing o...  \n",
       "1900  we are planning to build product to provide da...  \n",
       "\n",
       "[1901 rows x 5 columns]"
      ]
     },
     "execution_count": 5,
     "metadata": {},
     "output_type": "execute_result"
    }
   ],
   "source": [
    "df_comb"
   ]
  },
  {
   "cell_type": "markdown",
   "id": "84a53c68",
   "metadata": {},
   "source": [
    "## Modelling"
   ]
  },
  {
   "cell_type": "markdown",
   "id": "533620a8",
   "metadata": {},
   "source": [
    "CountVectorizer requires the the data to be a vector. Hence, we will be merging the 'title lemmatized' and 'selftext lemmatized' to form a new column that we will use for modelling. We will not be using the non-lemmatized data as the words are not in 'lemma' form and it will significantly increase time needed for model to run."
   ]
  },
  {
   "cell_type": "code",
   "execution_count": 6,
   "id": "b4f1cc77",
   "metadata": {
    "scrolled": true
   },
   "outputs": [
    {
     "data": {
      "text/html": [
       "<div>\n",
       "<style scoped>\n",
       "    .dataframe tbody tr th:only-of-type {\n",
       "        vertical-align: middle;\n",
       "    }\n",
       "\n",
       "    .dataframe tbody tr th {\n",
       "        vertical-align: top;\n",
       "    }\n",
       "\n",
       "    .dataframe thead th {\n",
       "        text-align: right;\n",
       "    }\n",
       "</style>\n",
       "<table border=\"1\" class=\"dataframe\">\n",
       "  <thead>\n",
       "    <tr style=\"text-align: right;\">\n",
       "      <th></th>\n",
       "      <th>title</th>\n",
       "      <th>selftext</th>\n",
       "      <th>subreddit</th>\n",
       "      <th>title lemmatized</th>\n",
       "      <th>selftext lemmatized</th>\n",
       "      <th>lemma_comb</th>\n",
       "    </tr>\n",
       "  </thead>\n",
       "  <tbody>\n",
       "    <tr>\n",
       "      <th>0</th>\n",
       "      <td>edge regression with edge features in graph ne...</td>\n",
       "      <td>hey guys working on gnn to do edge regression ...</td>\n",
       "      <td>1</td>\n",
       "      <td>edge regression with edge feature in graph neu...</td>\n",
       "      <td>hey guy working on gnn to do edge regression u...</td>\n",
       "      <td>edge regression with edge feature in graph neu...</td>\n",
       "    </tr>\n",
       "    <tr>\n",
       "      <th>1</th>\n",
       "      <td>aspiring to be data analyst</td>\n",
       "      <td>can someone suggest me how should study data s...</td>\n",
       "      <td>1</td>\n",
       "      <td>aspiring to be data analyst</td>\n",
       "      <td>can someone suggest me how should study data s...</td>\n",
       "      <td>aspiring to be data analyst can someone sugges...</td>\n",
       "    </tr>\n",
       "    <tr>\n",
       "      <th>2</th>\n",
       "      <td>how to build your own chatbot in python using ...</td>\n",
       "      <td>how to build your own chatbot in python using ...</td>\n",
       "      <td>1</td>\n",
       "      <td>how to build your own chatbot in python using ...</td>\n",
       "      <td>how to build your own chatbot in python using ...</td>\n",
       "      <td>how to build your own chatbot in python using ...</td>\n",
       "    </tr>\n",
       "    <tr>\n",
       "      <th>3</th>\n",
       "      <td>ds bi graduate certificates vs masters of ds c...</td>\n",
       "      <td>as title says know most people in the ds field...</td>\n",
       "      <td>1</td>\n",
       "      <td>d bi graduate certificate v master of d c degree</td>\n",
       "      <td>a title say know most people in the d field lo...</td>\n",
       "      <td>d bi graduate certificate v master of d c degr...</td>\n",
       "    </tr>\n",
       "    <tr>\n",
       "      <th>4</th>\n",
       "      <td>target salary for fresh phd grad in stats</td>\n",
       "      <td>hi all graduating from my phd in few months an...</td>\n",
       "      <td>1</td>\n",
       "      <td>target salary for fresh phd grad in stats</td>\n",
       "      <td>hi all graduating from my phd in few month and...</td>\n",
       "      <td>target salary for fresh phd grad in stats hi a...</td>\n",
       "    </tr>\n",
       "    <tr>\n",
       "      <th>...</th>\n",
       "      <td>...</td>\n",
       "      <td>...</td>\n",
       "      <td>...</td>\n",
       "      <td>...</td>\n",
       "      <td>...</td>\n",
       "      <td>...</td>\n",
       "    </tr>\n",
       "    <tr>\n",
       "      <th>1896</th>\n",
       "      <td>made pancakedb new type of columnar db that us...</td>\n",
       "      <td>made pancakedb new type of columnar db that us...</td>\n",
       "      <td>0</td>\n",
       "      <td>made pancakedb new type of columnar db that us...</td>\n",
       "      <td>made pancakedb new type of columnar db that us...</td>\n",
       "      <td>made pancakedb new type of columnar db that us...</td>\n",
       "    </tr>\n",
       "    <tr>\n",
       "      <th>1897</th>\n",
       "      <td>how to replace all values with one integer and...</td>\n",
       "      <td>basically binning or other as thanks</td>\n",
       "      <td>0</td>\n",
       "      <td>how to replace all value with one integer and ...</td>\n",
       "      <td>basically binning or other a thanks</td>\n",
       "      <td>how to replace all value with one integer and ...</td>\n",
       "    </tr>\n",
       "    <tr>\n",
       "      <th>1898</th>\n",
       "      <td>how to switch from etl testing role to de role</td>\n",
       "      <td>have years of work experience in etl testing a...</td>\n",
       "      <td>0</td>\n",
       "      <td>how to switch from etl testing role to de role</td>\n",
       "      <td>have year of work experience in etl testing an...</td>\n",
       "      <td>how to switch from etl testing role to de role...</td>\n",
       "    </tr>\n",
       "    <tr>\n",
       "      <th>1899</th>\n",
       "      <td>has anyone done an aws live classroom training...</td>\n",
       "      <td>specifically asking for the data warehousing o...</td>\n",
       "      <td>0</td>\n",
       "      <td>ha anyone done an aws live classroom training ...</td>\n",
       "      <td>specifically asking for the data warehousing o...</td>\n",
       "      <td>ha anyone done an aws live classroom training ...</td>\n",
       "    </tr>\n",
       "    <tr>\n",
       "      <th>1900</th>\n",
       "      <td>options for client data retrieval etl</td>\n",
       "      <td>we are planning to build product to provide da...</td>\n",
       "      <td>0</td>\n",
       "      <td>option for client data retrieval etl</td>\n",
       "      <td>we are planning to build product to provide da...</td>\n",
       "      <td>option for client data retrieval etl we are pl...</td>\n",
       "    </tr>\n",
       "  </tbody>\n",
       "</table>\n",
       "<p>1901 rows × 6 columns</p>\n",
       "</div>"
      ],
      "text/plain": [
       "                                                  title  \\\n",
       "0     edge regression with edge features in graph ne...   \n",
       "1                           aspiring to be data analyst   \n",
       "2     how to build your own chatbot in python using ...   \n",
       "3     ds bi graduate certificates vs masters of ds c...   \n",
       "4             target salary for fresh phd grad in stats   \n",
       "...                                                 ...   \n",
       "1896  made pancakedb new type of columnar db that us...   \n",
       "1897  how to replace all values with one integer and...   \n",
       "1898     how to switch from etl testing role to de role   \n",
       "1899  has anyone done an aws live classroom training...   \n",
       "1900              options for client data retrieval etl   \n",
       "\n",
       "                                               selftext  subreddit  \\\n",
       "0     hey guys working on gnn to do edge regression ...          1   \n",
       "1     can someone suggest me how should study data s...          1   \n",
       "2     how to build your own chatbot in python using ...          1   \n",
       "3     as title says know most people in the ds field...          1   \n",
       "4     hi all graduating from my phd in few months an...          1   \n",
       "...                                                 ...        ...   \n",
       "1896  made pancakedb new type of columnar db that us...          0   \n",
       "1897               basically binning or other as thanks          0   \n",
       "1898  have years of work experience in etl testing a...          0   \n",
       "1899  specifically asking for the data warehousing o...          0   \n",
       "1900  we are planning to build product to provide da...          0   \n",
       "\n",
       "                                       title lemmatized  \\\n",
       "0     edge regression with edge feature in graph neu...   \n",
       "1                           aspiring to be data analyst   \n",
       "2     how to build your own chatbot in python using ...   \n",
       "3      d bi graduate certificate v master of d c degree   \n",
       "4             target salary for fresh phd grad in stats   \n",
       "...                                                 ...   \n",
       "1896  made pancakedb new type of columnar db that us...   \n",
       "1897  how to replace all value with one integer and ...   \n",
       "1898     how to switch from etl testing role to de role   \n",
       "1899  ha anyone done an aws live classroom training ...   \n",
       "1900               option for client data retrieval etl   \n",
       "\n",
       "                                    selftext lemmatized  \\\n",
       "0     hey guy working on gnn to do edge regression u...   \n",
       "1     can someone suggest me how should study data s...   \n",
       "2     how to build your own chatbot in python using ...   \n",
       "3     a title say know most people in the d field lo...   \n",
       "4     hi all graduating from my phd in few month and...   \n",
       "...                                                 ...   \n",
       "1896  made pancakedb new type of columnar db that us...   \n",
       "1897                basically binning or other a thanks   \n",
       "1898  have year of work experience in etl testing an...   \n",
       "1899  specifically asking for the data warehousing o...   \n",
       "1900  we are planning to build product to provide da...   \n",
       "\n",
       "                                             lemma_comb  \n",
       "0     edge regression with edge feature in graph neu...  \n",
       "1     aspiring to be data analyst can someone sugges...  \n",
       "2     how to build your own chatbot in python using ...  \n",
       "3     d bi graduate certificate v master of d c degr...  \n",
       "4     target salary for fresh phd grad in stats hi a...  \n",
       "...                                                 ...  \n",
       "1896  made pancakedb new type of columnar db that us...  \n",
       "1897  how to replace all value with one integer and ...  \n",
       "1898  how to switch from etl testing role to de role...  \n",
       "1899  ha anyone done an aws live classroom training ...  \n",
       "1900  option for client data retrieval etl we are pl...  \n",
       "\n",
       "[1901 rows x 6 columns]"
      ]
     },
     "execution_count": 6,
     "metadata": {},
     "output_type": "execute_result"
    }
   ],
   "source": [
    "# Create title_selftext column using 'selftext' and 'title' columns\n",
    "\n",
    "df_comb['lemma_comb'] = ''\n",
    "\n",
    "for index, val in enumerate(df_comb['selftext lemmatized']):\n",
    "    \n",
    "    if val == df_comb['title lemmatized'][index]:\n",
    "        df_comb['lemma_comb'][index] = val\n",
    "    \n",
    "    else:\n",
    "        df_comb['lemma_comb'][index] = df_comb['title lemmatized'][index] + ' ' + str(val)\n",
    "        \n",
    "df_comb"
   ]
  },
  {
   "cell_type": "markdown",
   "id": "79434f57",
   "metadata": {},
   "source": [
    "### Baseline Accuracy"
   ]
  },
  {
   "cell_type": "code",
   "execution_count": 7,
   "id": "4ccdea71",
   "metadata": {},
   "outputs": [
    {
     "data": {
      "text/plain": [
       "0    0.504471\n",
       "1    0.495529\n",
       "Name: subreddit, dtype: float64"
      ]
     },
     "execution_count": 7,
     "metadata": {},
     "output_type": "execute_result"
    }
   ],
   "source": [
    "# Understanding the baseline accuarcy (1 for 'datascience' and 0 for 'dataengineering')\n",
    "# Serves as a baseline for our model to beat\n",
    "\n",
    "df_comb['subreddit'].value_counts(normalize = True)"
   ]
  },
  {
   "cell_type": "markdown",
   "id": "5103c925",
   "metadata": {},
   "source": [
    "### Train-test-splitting"
   ]
  },
  {
   "cell_type": "code",
   "execution_count": 8,
   "id": "8a12ec73",
   "metadata": {},
   "outputs": [],
   "source": [
    "# Splitting X and y \n",
    "\n",
    "X = df_comb['lemma_comb']\n",
    "y = df_comb['subreddit']"
   ]
  },
  {
   "cell_type": "code",
   "execution_count": 9,
   "id": "ec40cb98",
   "metadata": {},
   "outputs": [],
   "source": [
    "# Train_test_split\n",
    "\n",
    "X_train, X_test, y_train, y_test = train_test_split(X, y, random_state = 42, stratify = y)"
   ]
  },
  {
   "cell_type": "markdown",
   "id": "4418f72a",
   "metadata": {},
   "source": [
    "## <a name='Model_Evaluation'></a>Model Evaluation"
   ]
  },
  {
   "cell_type": "markdown",
   "id": "171e1dac",
   "metadata": {},
   "source": [
    "For our model selection and evaluation, we will be testing three models, the **Multinomial Naive Bayes model**, **Logistic Regression model** and **Random Forest model** and vectorizing with **CountVectorizer** and **TfidfVectorizer**."
   ]
  },
  {
   "cell_type": "markdown",
   "id": "8c7bff32",
   "metadata": {},
   "source": [
    "### Stopwords\n",
    "\n",
    "We will be removing the stop words that we identified during EDA together with an in-built function 'english'. This is to ensure that the stopwords are not taken into account during modelling."
   ]
  },
  {
   "cell_type": "code",
   "execution_count": 10,
   "id": "a79ff9c8",
   "metadata": {},
   "outputs": [
    {
     "name": "stdout",
     "output_type": "stream",
     "text": [
      "Stopwords before: 179\n",
      "Stopwords after: 201\n"
     ]
    }
   ],
   "source": [
    "# Importing additional words into default 'english' stopwords\n",
    "\n",
    "stop_words = set(stopwords.words('english'))\n",
    "to_extend = ['science','datascience','scientist','engineering','engineer','dataengineering','www','com','amp',\n",
    "             'x200b','data','like','know','job','good','https','youtube','png','best','hi','vs','thanks'] \n",
    "print('Stopwords before:', len(stop_words))\n",
    "stop_words = stop_words.union(to_extend)\n",
    "stop_words = list(stop_words)\n",
    "print('Stopwords after:', len(stop_words))"
   ]
  },
  {
   "cell_type": "markdown",
   "id": "0d4094e5",
   "metadata": {},
   "source": [
    "### Setting Pipelines and GridSearchCV Testing (Multinomial Naive Bayes)"
   ]
  },
  {
   "cell_type": "code",
   "execution_count": 11,
   "id": "d11341ed",
   "metadata": {},
   "outputs": [],
   "source": [
    "# Creating pipeline with cvec transformer and multinomial naive-bayes estimator\n",
    "\n",
    "p1 = Pipeline([\n",
    "    ('cvec', CountVectorizer()),\n",
    "    ('nb', MultinomialNB())\n",
    "])"
   ]
  },
  {
   "cell_type": "code",
   "execution_count": 12,
   "id": "6b914657",
   "metadata": {},
   "outputs": [
    {
     "name": "stdout",
     "output_type": "stream",
     "text": [
      "(1425,)\n",
      "(1425,)\n"
     ]
    }
   ],
   "source": [
    "print(X_train.shape)\n",
    "print(y_train.shape)"
   ]
  },
  {
   "cell_type": "code",
   "execution_count": 13,
   "id": "c4c578d2",
   "metadata": {},
   "outputs": [],
   "source": [
    "# GridSearch for pipeline 1\n",
    "\n",
    "# Setting parameters for GridSearch 1 (CountVectorizer)\n",
    "p1_params = {\n",
    "    'cvec__max_features': [1000, 1_500, 2_000],\n",
    "    'cvec__stop_words':[stop_words],\n",
    "    'cvec__min_df':[2,3],\n",
    "    'cvec__ngram_range': [(1,2),(2,2)],\n",
    "    'nb__alpha':[0.75, 1.0]\n",
    "}"
   ]
  },
  {
   "cell_type": "code",
   "execution_count": 14,
   "id": "08caefd4",
   "metadata": {
    "scrolled": true
   },
   "outputs": [
    {
     "name": "stdout",
     "output_type": "stream",
     "text": [
      "Best score: 0.7950877192982457\n",
      "Best params: {'cvec__max_features': 1500, 'cvec__min_df': 3, 'cvec__ngram_range': (1, 2), 'cvec__stop_words': [\"you've\", 'all', 'own', 'ma', \"isn't\", 'can', \"mightn't\", 'have', 'won', 'job', 'our', 'below', 'when', 'will', 'now', 'hadn', 'couldn', 'does', 'doing', 'on', 'very', 'engineer', 'he', 'while', 'it', \"aren't\", 'each', 'other', 'll', 'who', 'o', \"should've\", 'above', 'aren', 'did', 'his', 'how', 'until', 'and', 'dataengineering', 'its', 'am', 'then', \"mustn't\", \"hadn't\", 'this', 'him', 'm', \"she's\", 'wasn', 'off', 'a', 'after', 'has', 'hers', 'was', \"you're\", 'www', \"it's\", 've', 'they', 'before', 'were', 'why', 'theirs', 'shan', 're', 'ourselves', 'against', 'isn', 'mustn', 'like', 'png', 'my', 'them', 'doesn', 'as', 'didn', 'same', 'than', 'hasn', 'herself', 'themselves', \"doesn't\", 'science', 'through', 'so', 'your', 'during', 'to', 'most', 'at', 'into', 'her', 'more', 'some', 'the', 'over', 'no', 'only', 'be', 't', 'youtube', 'we', 'y', 'which', 'these', \"wouldn't\", 'weren', 'further', 'ain', 's', \"couldn't\", 'nor', 'having', 'd', 'needn', 'know', 'an', 'again', \"hasn't\", 'such', \"haven't\", 'by', 'too', 'itself', 'had', 'if', 'up', 'here', 'scientist', 'are', 'down', \"you'll\", 'their', 'yours', 'or', \"shouldn't\", 'in', 'best', \"you'd\", 'good', 'that', 'what', 'with', 'x200b', 'engineering', 'mightn', 'thanks', \"weren't\", 'both', 'about', 'being', 'out', 'those', 'do', 'hi', 'there', 'because', 'yourself', 'himself', 'https', 'wouldn', 'myself', 'for', \"needn't\", 'any', 'data', 'few', 'datascience', 'i', 'ours', 'you', 'been', \"that'll\", 'she', 'don', 'whom', 'under', 'but', 'is', 'should', 'just', \"shan't\", 'between', 'amp', 'yourselves', 'not', \"didn't\", \"won't\", 'com', 'once', \"wasn't\", 'from', 'shouldn', \"don't\", 'vs', 'haven', 'where', 'me', 'of'], 'nb__alpha': 1.0}\n",
      "Train score: 0.8470175438596491\n",
      "Test score: 0.7605042016806722\n",
      "Wall time: 17.8 s\n"
     ]
    }
   ],
   "source": [
    "%%time\n",
    "\n",
    "# Fitting gs1 into X_train, y_train\n",
    "\n",
    "gs1 = GridSearchCV(p1, p1_params, cv = 5, scoring = 'accuracy', n_jobs = -1)\n",
    "\n",
    "gs1.fit(X_train, y_train)\n",
    "\n",
    "print('Best score:',gs1.best_score_)\n",
    "\n",
    "print('Best params:',gs1.best_params_)\n",
    "\n",
    "print('Train score:',gs1.score(X_train, y_train))\n",
    "\n",
    "print('Test score:',gs1.score(X_test, y_test))"
   ]
  },
  {
   "cell_type": "code",
   "execution_count": 15,
   "id": "b07336f7",
   "metadata": {},
   "outputs": [],
   "source": [
    "# Function to plot classification scoring matrices\n",
    "\n",
    "def plot_classification(gridscv):\n",
    "    pred = gridscv.predict(X_test)\n",
    "    \n",
    "    cm = confusion_matrix(y_test,pred)\n",
    "    \n",
    "    plot_confusion_matrix(gridscv, X_test, y_test, cmap='Blues', \n",
    "                      values_format='d', display_labels=['dataengineering', 'datascience'])\n",
    "\n",
    "    print(classification_report(y_test,pred))\n",
    "    \n",
    "    tn, fp, fn, tp = confusion_matrix(y_test, pred).ravel()\n",
    "    \n",
    "    sens = tp / (tp + fn)\n",
    "\n",
    "    print(f'Sensitivity: {round(sens, 4)}')\n",
    "\n",
    "    spec = tn / (tn + fp)\n",
    "\n",
    "    print(f'Specificity: {round(spec, 4)}')"
   ]
  },
  {
   "cell_type": "code",
   "execution_count": 16,
   "id": "ec41c03d",
   "metadata": {},
   "outputs": [
    {
     "name": "stdout",
     "output_type": "stream",
     "text": [
      "              precision    recall  f1-score   support\n",
      "\n",
      "           0       0.79      0.72      0.75       240\n",
      "           1       0.74      0.80      0.77       236\n",
      "\n",
      "    accuracy                           0.76       476\n",
      "   macro avg       0.76      0.76      0.76       476\n",
      "weighted avg       0.76      0.76      0.76       476\n",
      "\n",
      "Sensitivity: 0.8008\n",
      "Specificity: 0.7208\n"
     ]
    },
    {
     "data": {
      "image/png": "[encoded data removed]",
      "text/plain": [
       "<Figure size 432x288 with 2 Axes>"
      ]
     },
     "metadata": {
      "needs_background": "light"
     },
     "output_type": "display_data"
    }
   ],
   "source": [
    "plot_classification(gs1)"
   ]
  },
  {
   "cell_type": "code",
   "execution_count": 17,
   "id": "f8d1fa20",
   "metadata": {},
   "outputs": [],
   "source": [
    "# Creating pipeline with TVIDF transformer and multinomial naive-bayes estimator\n",
    "\n",
    "p2 = Pipeline([\n",
    "    ('tvec', TfidfVectorizer()),\n",
    "    ('nb', MultinomialNB())\n",
    "])"
   ]
  },
  {
   "cell_type": "code",
   "execution_count": 18,
   "id": "f5b2e347",
   "metadata": {},
   "outputs": [],
   "source": [
    "# Setting hyperparameters for GridSearch2 (Tfidf)\n",
    "\n",
    "p2_params = {\n",
    "    'tvec__max_features': [3000, 4000, 5000],\n",
    "    'tvec__stop_words':[stop_words],\n",
    "    'tvec__min_df':[2,3],\n",
    "    'tvec__ngram_range':[(1,2),(2,2)],\n",
    "    'nb__alpha':[0.5, 1.0]\n",
    "}"
   ]
  },
  {
   "cell_type": "code",
   "execution_count": 19,
   "id": "ce2277a6",
   "metadata": {
    "scrolled": true
   },
   "outputs": [
    {
     "name": "stdout",
     "output_type": "stream",
     "text": [
      "Best score: 0.8014035087719298\n",
      "Best params: {'nb__alpha': 1.0, 'tvec__max_features': 3000, 'tvec__min_df': 2, 'tvec__ngram_range': (1, 2), 'tvec__stop_words': [\"you've\", 'all', 'own', 'ma', \"isn't\", 'can', \"mightn't\", 'have', 'won', 'job', 'our', 'below', 'when', 'will', 'now', 'hadn', 'couldn', 'does', 'doing', 'on', 'very', 'engineer', 'he', 'while', 'it', \"aren't\", 'each', 'other', 'll', 'who', 'o', \"should've\", 'above', 'aren', 'did', 'his', 'how', 'until', 'and', 'dataengineering', 'its', 'am', 'then', \"mustn't\", \"hadn't\", 'this', 'him', 'm', \"she's\", 'wasn', 'off', 'a', 'after', 'has', 'hers', 'was', \"you're\", 'www', \"it's\", 've', 'they', 'before', 'were', 'why', 'theirs', 'shan', 're', 'ourselves', 'against', 'isn', 'mustn', 'like', 'png', 'my', 'them', 'doesn', 'as', 'didn', 'same', 'than', 'hasn', 'herself', 'themselves', \"doesn't\", 'science', 'through', 'so', 'your', 'during', 'to', 'most', 'at', 'into', 'her', 'more', 'some', 'the', 'over', 'no', 'only', 'be', 't', 'youtube', 'we', 'y', 'which', 'these', \"wouldn't\", 'weren', 'further', 'ain', 's', \"couldn't\", 'nor', 'having', 'd', 'needn', 'know', 'an', 'again', \"hasn't\", 'such', \"haven't\", 'by', 'too', 'itself', 'had', 'if', 'up', 'here', 'scientist', 'are', 'down', \"you'll\", 'their', 'yours', 'or', \"shouldn't\", 'in', 'best', \"you'd\", 'good', 'that', 'what', 'with', 'x200b', 'engineering', 'mightn', 'thanks', \"weren't\", 'both', 'about', 'being', 'out', 'those', 'do', 'hi', 'there', 'because', 'yourself', 'himself', 'https', 'wouldn', 'myself', 'for', \"needn't\", 'any', 'data', 'few', 'datascience', 'i', 'ours', 'you', 'been', \"that'll\", 'she', 'don', 'whom', 'under', 'but', 'is', 'should', 'just', \"shan't\", 'between', 'amp', 'yourselves', 'not', \"didn't\", \"won't\", 'com', 'once', \"wasn't\", 'from', 'shouldn', \"don't\", 'vs', 'haven', 'where', 'me', 'of']}\n",
      "Train score: 0.9059649122807018\n",
      "Test score: 0.7983193277310925\n",
      "Wall time: 14.9 s\n"
     ]
    }
   ],
   "source": [
    "%%time\n",
    "\n",
    "# Fitting gs2 into X_train, y_train\n",
    "\n",
    "gs2 = GridSearchCV(p2, p2_params, cv = 5, scoring = 'accuracy', n_jobs = -1)\n",
    "\n",
    "gs2.fit(X_train, y_train)\n",
    "\n",
    "print('Best score:',gs2.best_score_)\n",
    "\n",
    "print('Best params:',gs2.best_params_)\n",
    "\n",
    "print('Train score:',gs2.score(X_train, y_train))\n",
    "\n",
    "print('Test score:',gs2.score(X_test, y_test))"
   ]
  },
  {
   "cell_type": "code",
   "execution_count": 20,
   "id": "6f069691",
   "metadata": {},
   "outputs": [
    {
     "name": "stdout",
     "output_type": "stream",
     "text": [
      "              precision    recall  f1-score   support\n",
      "\n",
      "           0       0.81      0.78      0.80       240\n",
      "           1       0.78      0.82      0.80       236\n",
      "\n",
      "    accuracy                           0.80       476\n",
      "   macro avg       0.80      0.80      0.80       476\n",
      "weighted avg       0.80      0.80      0.80       476\n",
      "\n",
      "Sensitivity: 0.8178\n",
      "Specificity: 0.7792\n"
     ]
    },
    {
     "data": {
      "image/png": "[encoded data removed]",
      "text/plain": [
       "<Figure size 432x288 with 2 Axes>"
      ]
     },
     "metadata": {
      "needs_background": "light"
     },
     "output_type": "display_data"
    }
   ],
   "source": [
    "plot_classification(gs2)"
   ]
  },
  {
   "cell_type": "markdown",
   "id": "400574b7",
   "metadata": {},
   "source": [
    "Accuracy for multinomial naive bayes was higher when paired with TfidfVectorizer but model is highly overfit as compared to multinomial naive bayes paired with CountVectorizer. Sensitivity is higher for both models as there is higher number of false positives than false negatives. "
   ]
  },
  {
   "cell_type": "markdown",
   "id": "0b3ef371",
   "metadata": {},
   "source": [
    "### Setting Pipelines and GridSearchCV Testing (Logistic Regression)"
   ]
  },
  {
   "cell_type": "code",
   "execution_count": 21,
   "id": "9a04b296",
   "metadata": {},
   "outputs": [],
   "source": [
    "# Creating pipeline with CountVectorizer transformer and Logistic Regression estimator\n",
    "\n",
    "p3 = Pipeline([\n",
    "    ('cvec', CountVectorizer()),\n",
    "    ('lr', LogisticRegression())\n",
    "])"
   ]
  },
  {
   "cell_type": "code",
   "execution_count": 22,
   "id": "b5159788",
   "metadata": {},
   "outputs": [],
   "source": [
    "# Setting hyperparameters for GridSearch3 (CountVectorizer)\n",
    "\n",
    "p3_params = {\n",
    "    'cvec__max_features': [3500, 4000, 4500],\n",
    "    'cvec__stop_words':[stop_words],\n",
    "    'cvec__min_df':[2,3],\n",
    "    'cvec__ngram_range':[(1,2),(2,2)],\n",
    "    'lr__C':[0.50,1],\n",
    "    'lr__penalty':['l1','l2'],\n",
    "    'lr__solver':['liblinear']\n",
    "}"
   ]
  },
  {
   "cell_type": "code",
   "execution_count": 23,
   "id": "d3bf736d",
   "metadata": {},
   "outputs": [
    {
     "name": "stdout",
     "output_type": "stream",
     "text": [
      "Best score: 0.8014035087719298\n",
      "Best params: {'cvec__max_features': 4500, 'cvec__min_df': 2, 'cvec__ngram_range': (1, 2), 'cvec__stop_words': [\"you've\", 'all', 'own', 'ma', \"isn't\", 'can', \"mightn't\", 'have', 'won', 'job', 'our', 'below', 'when', 'will', 'now', 'hadn', 'couldn', 'does', 'doing', 'on', 'very', 'engineer', 'he', 'while', 'it', \"aren't\", 'each', 'other', 'll', 'who', 'o', \"should've\", 'above', 'aren', 'did', 'his', 'how', 'until', 'and', 'dataengineering', 'its', 'am', 'then', \"mustn't\", \"hadn't\", 'this', 'him', 'm', \"she's\", 'wasn', 'off', 'a', 'after', 'has', 'hers', 'was', \"you're\", 'www', \"it's\", 've', 'they', 'before', 'were', 'why', 'theirs', 'shan', 're', 'ourselves', 'against', 'isn', 'mustn', 'like', 'png', 'my', 'them', 'doesn', 'as', 'didn', 'same', 'than', 'hasn', 'herself', 'themselves', \"doesn't\", 'science', 'through', 'so', 'your', 'during', 'to', 'most', 'at', 'into', 'her', 'more', 'some', 'the', 'over', 'no', 'only', 'be', 't', 'youtube', 'we', 'y', 'which', 'these', \"wouldn't\", 'weren', 'further', 'ain', 's', \"couldn't\", 'nor', 'having', 'd', 'needn', 'know', 'an', 'again', \"hasn't\", 'such', \"haven't\", 'by', 'too', 'itself', 'had', 'if', 'up', 'here', 'scientist', 'are', 'down', \"you'll\", 'their', 'yours', 'or', \"shouldn't\", 'in', 'best', \"you'd\", 'good', 'that', 'what', 'with', 'x200b', 'engineering', 'mightn', 'thanks', \"weren't\", 'both', 'about', 'being', 'out', 'those', 'do', 'hi', 'there', 'because', 'yourself', 'himself', 'https', 'wouldn', 'myself', 'for', \"needn't\", 'any', 'data', 'few', 'datascience', 'i', 'ours', 'you', 'been', \"that'll\", 'she', 'don', 'whom', 'under', 'but', 'is', 'should', 'just', \"shan't\", 'between', 'amp', 'yourselves', 'not', \"didn't\", \"won't\", 'com', 'once', \"wasn't\", 'from', 'shouldn', \"don't\", 'vs', 'haven', 'where', 'me', 'of'], 'lr__C': 0.5, 'lr__penalty': 'l2', 'lr__solver': 'liblinear'}\n",
      "Train score: 0.9824561403508771\n",
      "Test score: 0.7563025210084033\n",
      "Wall time: 31.8 s\n"
     ]
    }
   ],
   "source": [
    "%%time\n",
    "\n",
    "# Fitting gs3 into X_train, y_train\n",
    "\n",
    "gs3 = GridSearchCV(p3, p3_params, cv = 5, scoring = 'accuracy', n_jobs = -1)\n",
    "\n",
    "gs3.fit(X_train, y_train)\n",
    "\n",
    "print('Best score:',gs3.best_score_)\n",
    "\n",
    "print('Best params:',gs3.best_params_)\n",
    "\n",
    "print('Train score:',gs3.score(X_train, y_train))\n",
    "\n",
    "print('Test score:',gs3.score(X_test, y_test))"
   ]
  },
  {
   "cell_type": "code",
   "execution_count": 24,
   "id": "179b5379",
   "metadata": {
    "scrolled": false
   },
   "outputs": [
    {
     "name": "stdout",
     "output_type": "stream",
     "text": [
      "              precision    recall  f1-score   support\n",
      "\n",
      "           0       0.78      0.72      0.75       240\n",
      "           1       0.73      0.80      0.76       236\n",
      "\n",
      "    accuracy                           0.76       476\n",
      "   macro avg       0.76      0.76      0.76       476\n",
      "weighted avg       0.76      0.76      0.76       476\n",
      "\n",
      "Sensitivity: 0.7966\n",
      "Specificity: 0.7167\n"
     ]
    },
    {
     "data": {
      "image/png": "[encoded data removed]",
      "text/plain": [
       "<Figure size 432x288 with 2 Axes>"
      ]
     },
     "metadata": {
      "needs_background": "light"
     },
     "output_type": "display_data"
    }
   ],
   "source": [
    "plot_classification(gs3)"
   ]
  },
  {
   "cell_type": "code",
   "execution_count": 25,
   "id": "8ff8c282",
   "metadata": {},
   "outputs": [
    {
     "data": {
      "image/png": "[encoded data removed]",
      "text/plain": [
       "<Figure size 720x720 with 1 Axes>"
      ]
     },
     "metadata": {
      "needs_background": "light"
     },
     "output_type": "display_data"
    }
   ],
   "source": [
    "# Plotting the top 30 words in both subreddits for LogisticRegression model \n",
    "\n",
    "lr_coef2 = gs3.best_estimator_['lr'].coef_[0]\n",
    "lr_names2 = gs3.best_estimator_['cvec'].get_feature_names()\n",
    "lr_coef_df2 = pd.DataFrame(lr_coef2, index = lr_names2, columns = ['coef'])\n",
    "lr_coef_df2['abs_coef'] = abs(lr_coef_df2['coef'])\n",
    "lr_coef_plot2 = lr_coef_df2.sort_values(ascending = False, by = 'abs_coef').head(30)\n",
    "lr_coef_plot2\n",
    "\n",
    "# define a list of colour according to positive or negative values\n",
    "color_lst = ['skyblue' if float(x) < 0  else 'orange' for x in lr_coef_plot2['coef']]\n",
    "\n",
    "# plot barplot\n",
    "plt.figure(figsize = (10,10))\n",
    "sns.barplot(x = lr_coef_plot2['coef'],\n",
    "            y = lr_coef_plot2.index,\n",
    "            palette = color_lst)\n",
    "plt.title('   r/dataengineering                               r/datascience', fontsize = 20)\n",
    "plt.xticks(fontsize = 14)\n",
    "plt.yticks(fontsize = 14)\n",
    "plt.xlabel('Coefficients Value (cvec, lr)', fontsize = 14)\n",
    "plt.grid(linestyle = '--', alpha = 0.8);"
   ]
  },
  {
   "cell_type": "code",
   "execution_count": 26,
   "id": "0687832c",
   "metadata": {},
   "outputs": [],
   "source": [
    "# Creating pipeline with TFIDFVectorizer transformer and Logistic Regression estimator\n",
    "\n",
    "p4 = Pipeline([\n",
    "    ('tvec', TfidfVectorizer()),\n",
    "    ('lr', LogisticRegression())\n",
    "])"
   ]
  },
  {
   "cell_type": "code",
   "execution_count": 27,
   "id": "82ea0710",
   "metadata": {},
   "outputs": [],
   "source": [
    "p4_params = {\n",
    "    'tvec__max_features': [3500, 4000, 4500,],\n",
    "    'tvec__stop_words':[stop_words],\n",
    "    'tvec__min_df':[2,3],\n",
    "    'tvec__ngram_range':[(1,2),(2,2)],\n",
    "    'lr__C': [0.5, 1],\n",
    "    'lr__penalty':['l1','l2'],\n",
    "    'lr__solver':['liblinear']\n",
    "}"
   ]
  },
  {
   "cell_type": "code",
   "execution_count": 28,
   "id": "9bfe7633",
   "metadata": {
    "scrolled": false
   },
   "outputs": [
    {
     "name": "stdout",
     "output_type": "stream",
     "text": [
      "Best score: 0.8175438596491228\n",
      "Best params: {'lr__C': 1, 'lr__penalty': 'l2', 'lr__solver': 'liblinear', 'tvec__max_features': 3500, 'tvec__min_df': 2, 'tvec__ngram_range': (1, 2), 'tvec__stop_words': [\"you've\", 'all', 'own', 'ma', \"isn't\", 'can', \"mightn't\", 'have', 'won', 'job', 'our', 'below', 'when', 'will', 'now', 'hadn', 'couldn', 'does', 'doing', 'on', 'very', 'engineer', 'he', 'while', 'it', \"aren't\", 'each', 'other', 'll', 'who', 'o', \"should've\", 'above', 'aren', 'did', 'his', 'how', 'until', 'and', 'dataengineering', 'its', 'am', 'then', \"mustn't\", \"hadn't\", 'this', 'him', 'm', \"she's\", 'wasn', 'off', 'a', 'after', 'has', 'hers', 'was', \"you're\", 'www', \"it's\", 've', 'they', 'before', 'were', 'why', 'theirs', 'shan', 're', 'ourselves', 'against', 'isn', 'mustn', 'like', 'png', 'my', 'them', 'doesn', 'as', 'didn', 'same', 'than', 'hasn', 'herself', 'themselves', \"doesn't\", 'science', 'through', 'so', 'your', 'during', 'to', 'most', 'at', 'into', 'her', 'more', 'some', 'the', 'over', 'no', 'only', 'be', 't', 'youtube', 'we', 'y', 'which', 'these', \"wouldn't\", 'weren', 'further', 'ain', 's', \"couldn't\", 'nor', 'having', 'd', 'needn', 'know', 'an', 'again', \"hasn't\", 'such', \"haven't\", 'by', 'too', 'itself', 'had', 'if', 'up', 'here', 'scientist', 'are', 'down', \"you'll\", 'their', 'yours', 'or', \"shouldn't\", 'in', 'best', \"you'd\", 'good', 'that', 'what', 'with', 'x200b', 'engineering', 'mightn', 'thanks', \"weren't\", 'both', 'about', 'being', 'out', 'those', 'do', 'hi', 'there', 'because', 'yourself', 'himself', 'https', 'wouldn', 'myself', 'for', \"needn't\", 'any', 'data', 'few', 'datascience', 'i', 'ours', 'you', 'been', \"that'll\", 'she', 'don', 'whom', 'under', 'but', 'is', 'should', 'just', \"shan't\", 'between', 'amp', 'yourselves', 'not', \"didn't\", \"won't\", 'com', 'once', \"wasn't\", 'from', 'shouldn', \"don't\", 'vs', 'haven', 'where', 'me', 'of']}\n",
      "Train score: 0.9431578947368421\n",
      "Test score: 0.8067226890756303\n",
      "Wall time: 30.8 s\n"
     ]
    }
   ],
   "source": [
    "%%time\n",
    "\n",
    "# Fitting gs4 into X_train, y_train\n",
    "\n",
    "gs4 = GridSearchCV(p4, p4_params, cv = 5, scoring = 'accuracy', n_jobs = -1)\n",
    "\n",
    "gs4.fit(X_train, y_train)\n",
    "\n",
    "print('Best score:',gs4.best_score_)\n",
    "\n",
    "print('Best params:',gs4.best_params_)\n",
    "\n",
    "print('Train score:',gs4.score(X_train, y_train))\n",
    "\n",
    "print('Test score:',gs4.score(X_test, y_test))"
   ]
  },
  {
   "cell_type": "code",
   "execution_count": 29,
   "id": "2406ca28",
   "metadata": {},
   "outputs": [
    {
     "name": "stdout",
     "output_type": "stream",
     "text": [
      "              precision    recall  f1-score   support\n",
      "\n",
      "           0       0.82      0.79      0.81       240\n",
      "           1       0.80      0.82      0.81       236\n",
      "\n",
      "    accuracy                           0.81       476\n",
      "   macro avg       0.81      0.81      0.81       476\n",
      "weighted avg       0.81      0.81      0.81       476\n",
      "\n",
      "Sensitivity: 0.822\n",
      "Specificity: 0.7917\n"
     ]
    },
    {
     "data": {
      "image/png": "[encoded data removed]",
      "text/plain": [
       "<Figure size 432x288 with 2 Axes>"
      ]
     },
     "metadata": {
      "needs_background": "light"
     },
     "output_type": "display_data"
    }
   ],
   "source": [
    "plot_classification(gs4)"
   ]
  },
  {
   "cell_type": "code",
   "execution_count": 32,
   "id": "4206ecb4",
   "metadata": {},
   "outputs": [
    {
     "data": {
      "image/png": "[encoded data removed]",
      "text/plain": [
       "<Figure size 720x720 with 1 Axes>"
      ]
     },
     "metadata": {
      "needs_background": "light"
     },
     "output_type": "display_data"
    }
   ],
   "source": [
    "# Plotting the top 30 words in both subreddits for LogisticRegression model \n",
    "\n",
    "lr_coef1 = gs4.best_estimator_['lr'].coef_[0]\n",
    "lr_names1 = gs4.best_estimator_['tvec'].get_feature_names()\n",
    "lr_coef_df1 = pd.DataFrame(lr_coef1, index = lr_names1, columns = ['coef'])\n",
    "lr_coef_df1['abs_coef'] = abs(lr_coef_df1['coef'])\n",
    "lr_coef_plot1 = lr_coef_df1.sort_values(ascending = False, by = 'abs_coef').head(30)\n",
    "lr_coef_plot1\n",
    "\n",
    "# define a list of colour according to positive or negative values\n",
    "color_lst = ['skyblue' if float(x) < 0  else 'orange' for x in lr_coef_plot1['coef']]\n",
    "\n",
    "# plot barplot\n",
    "plt.figure(figsize = (10,10))\n",
    "sns.barplot(x = lr_coef_plot1['coef'],\n",
    "            y = lr_coef_plot1.index,\n",
    "            palette = color_lst)\n",
    "plt.title('   r/dataengineering                               r/datascience', fontsize = 20)\n",
    "plt.xticks(fontsize = 14)\n",
    "plt.yticks(fontsize = 14)\n",
    "plt.xlabel('Coefficients Value (tvec, lr)', fontsize = 14)\n",
    "plt.grid(linestyle = '--', alpha = 0.8);"
   ]
  },
  {
   "cell_type": "markdown",
   "id": "0611d335",
   "metadata": {},
   "source": [
    "For both CountVectorizer and TfidfVectorizer, we see that the words that give the most predictive power to both subreddits are almost identical. However, the TfidfVectorizer has a better score due to the it taking into account the importance of the word on top of the frequency of the word."
   ]
  },
  {
   "cell_type": "markdown",
   "id": "c1150972",
   "metadata": {},
   "source": [
    "### Setting Pipelines and GridSearchCV Testing (Random Forest)"
   ]
  },
  {
   "cell_type": "code",
   "execution_count": 33,
   "id": "ab7ad10a",
   "metadata": {},
   "outputs": [],
   "source": [
    "# Creating pipeline with CountVectorizer transformer and Random Forest estimator\n",
    "\n",
    "p5 = Pipeline([\n",
    "    ('cvec', CountVectorizer()),\n",
    "    ('rf', RandomForestClassifier())\n",
    "])"
   ]
  },
  {
   "cell_type": "code",
   "execution_count": 34,
   "id": "a3cccf10",
   "metadata": {},
   "outputs": [],
   "source": [
    "p5_params = {\n",
    "    'cvec__max_features': [1500, 2000, 2500],\n",
    "    'cvec__stop_words':[stop_words],\n",
    "    'cvec__min_df':[2,3],\n",
    "    'cvec__ngram_range':[(1,2),(2,2)],\n",
    "    'rf__n_estimators':[150, 200, 250],\n",
    "    'rf__max_depth':[None, 1, 2]\n",
    "}"
   ]
  },
  {
   "cell_type": "code",
   "execution_count": 35,
   "id": "12753616",
   "metadata": {
    "scrolled": true
   },
   "outputs": [
    {
     "name": "stdout",
     "output_type": "stream",
     "text": [
      "Best score: 0.807719298245614\n",
      "Best params: {'cvec__max_features': 2000, 'cvec__min_df': 2, 'cvec__ngram_range': (1, 2), 'cvec__stop_words': [\"you've\", 'all', 'own', 'ma', \"isn't\", 'can', \"mightn't\", 'have', 'won', 'job', 'our', 'below', 'when', 'will', 'now', 'hadn', 'couldn', 'does', 'doing', 'on', 'very', 'engineer', 'he', 'while', 'it', \"aren't\", 'each', 'other', 'll', 'who', 'o', \"should've\", 'above', 'aren', 'did', 'his', 'how', 'until', 'and', 'dataengineering', 'its', 'am', 'then', \"mustn't\", \"hadn't\", 'this', 'him', 'm', \"she's\", 'wasn', 'off', 'a', 'after', 'has', 'hers', 'was', \"you're\", 'www', \"it's\", 've', 'they', 'before', 'were', 'why', 'theirs', 'shan', 're', 'ourselves', 'against', 'isn', 'mustn', 'like', 'png', 'my', 'them', 'doesn', 'as', 'didn', 'same', 'than', 'hasn', 'herself', 'themselves', \"doesn't\", 'science', 'through', 'so', 'your', 'during', 'to', 'most', 'at', 'into', 'her', 'more', 'some', 'the', 'over', 'no', 'only', 'be', 't', 'youtube', 'we', 'y', 'which', 'these', \"wouldn't\", 'weren', 'further', 'ain', 's', \"couldn't\", 'nor', 'having', 'd', 'needn', 'know', 'an', 'again', \"hasn't\", 'such', \"haven't\", 'by', 'too', 'itself', 'had', 'if', 'up', 'here', 'scientist', 'are', 'down', \"you'll\", 'their', 'yours', 'or', \"shouldn't\", 'in', 'best', \"you'd\", 'good', 'that', 'what', 'with', 'x200b', 'engineering', 'mightn', 'thanks', \"weren't\", 'both', 'about', 'being', 'out', 'those', 'do', 'hi', 'there', 'because', 'yourself', 'himself', 'https', 'wouldn', 'myself', 'for', \"needn't\", 'any', 'data', 'few', 'datascience', 'i', 'ours', 'you', 'been', \"that'll\", 'she', 'don', 'whom', 'under', 'but', 'is', 'should', 'just', \"shan't\", 'between', 'amp', 'yourselves', 'not', \"didn't\", \"won't\", 'com', 'once', \"wasn't\", 'from', 'shouldn', \"don't\", 'vs', 'haven', 'where', 'me', 'of'], 'rf__max_depth': None, 'rf__n_estimators': 250}\n",
      "Train score: 0.9943859649122807\n",
      "Test score: 0.773109243697479\n",
      "Wall time: 3min 3s\n"
     ]
    }
   ],
   "source": [
    "%%time\n",
    "\n",
    "# Fitting gs5 into X_train, y_train\n",
    "\n",
    "gs5 = GridSearchCV(p5, p5_params, cv = 5, scoring = 'accuracy', n_jobs = -1)\n",
    "\n",
    "gs5.fit(X_train, y_train)\n",
    "\n",
    "print('Best score:',gs5.best_score_)\n",
    "\n",
    "print('Best params:',gs5.best_params_)\n",
    "\n",
    "print('Train score:',gs5.score(X_train, y_train))\n",
    "\n",
    "print('Test score:',gs5.score(X_test, y_test))"
   ]
  },
  {
   "cell_type": "code",
   "execution_count": 36,
   "id": "2ccf5912",
   "metadata": {},
   "outputs": [
    {
     "name": "stdout",
     "output_type": "stream",
     "text": [
      "              precision    recall  f1-score   support\n",
      "\n",
      "           0       0.79      0.75      0.77       240\n",
      "           1       0.76      0.79      0.78       236\n",
      "\n",
      "    accuracy                           0.77       476\n",
      "   macro avg       0.77      0.77      0.77       476\n",
      "weighted avg       0.77      0.77      0.77       476\n",
      "\n",
      "Sensitivity: 0.7924\n",
      "Specificity: 0.7542\n"
     ]
    },
    {
     "data": {
      "image/png": "[encoded data removed]",
      "text/plain": [
       "<Figure size 432x288 with 2 Axes>"
      ]
     },
     "metadata": {
      "needs_background": "light"
     },
     "output_type": "display_data"
    }
   ],
   "source": [
    "plot_classification(gs5)"
   ]
  },
  {
   "cell_type": "code",
   "execution_count": 37,
   "id": "8f9435b4",
   "metadata": {},
   "outputs": [
    {
     "data": {
      "text/html": [
       "<div>\n",
       "<style scoped>\n",
       "    .dataframe tbody tr th:only-of-type {\n",
       "        vertical-align: middle;\n",
       "    }\n",
       "\n",
       "    .dataframe tbody tr th {\n",
       "        vertical-align: top;\n",
       "    }\n",
       "\n",
       "    .dataframe thead th {\n",
       "        text-align: right;\n",
       "    }\n",
       "</style>\n",
       "<table border=\"1\" class=\"dataframe\">\n",
       "  <thead>\n",
       "    <tr style=\"text-align: right;\">\n",
       "      <th></th>\n",
       "      <th>coef</th>\n",
       "    </tr>\n",
       "  </thead>\n",
       "  <tbody>\n",
       "    <tr>\n",
       "      <th>de</th>\n",
       "      <td>0.029143</td>\n",
       "    </tr>\n",
       "    <tr>\n",
       "      <th>pipeline</th>\n",
       "      <td>0.017752</td>\n",
       "    </tr>\n",
       "    <tr>\n",
       "      <th>etl</th>\n",
       "      <td>0.016133</td>\n",
       "    </tr>\n",
       "    <tr>\n",
       "      <th>spark</th>\n",
       "      <td>0.015687</td>\n",
       "    </tr>\n",
       "    <tr>\n",
       "      <th>table</th>\n",
       "      <td>0.011617</td>\n",
       "    </tr>\n",
       "    <tr>\n",
       "      <th>airflow</th>\n",
       "      <td>0.011389</td>\n",
       "    </tr>\n",
       "    <tr>\n",
       "      <th>dbt</th>\n",
       "      <td>0.010034</td>\n",
       "    </tr>\n",
       "    <tr>\n",
       "      <th>snowflake</th>\n",
       "      <td>0.009901</td>\n",
       "    </tr>\n",
       "    <tr>\n",
       "      <th>statistic</th>\n",
       "      <td>0.009325</td>\n",
       "    </tr>\n",
       "    <tr>\n",
       "      <th>databricks</th>\n",
       "      <td>0.008106</td>\n",
       "    </tr>\n",
       "    <tr>\n",
       "      <th>aws</th>\n",
       "      <td>0.007849</td>\n",
       "    </tr>\n",
       "    <tr>\n",
       "      <th>database</th>\n",
       "      <td>0.007594</td>\n",
       "    </tr>\n",
       "    <tr>\n",
       "      <th>cloud</th>\n",
       "      <td>0.007482</td>\n",
       "    </tr>\n",
       "    <tr>\n",
       "      <th>sql</th>\n",
       "      <td>0.007226</td>\n",
       "    </tr>\n",
       "    <tr>\n",
       "      <th>lake</th>\n",
       "      <td>0.006050</td>\n",
       "    </tr>\n",
       "    <tr>\n",
       "      <th>warehouse</th>\n",
       "      <td>0.005915</td>\n",
       "    </tr>\n",
       "    <tr>\n",
       "      <th>apache</th>\n",
       "      <td>0.005537</td>\n",
       "    </tr>\n",
       "    <tr>\n",
       "      <th>stack</th>\n",
       "      <td>0.005217</td>\n",
       "    </tr>\n",
       "    <tr>\n",
       "      <th>machine learning</th>\n",
       "      <td>0.005156</td>\n",
       "    </tr>\n",
       "    <tr>\n",
       "      <th>model</th>\n",
       "      <td>0.005081</td>\n",
       "    </tr>\n",
       "    <tr>\n",
       "      <th>file</th>\n",
       "      <td>0.004929</td>\n",
       "    </tr>\n",
       "    <tr>\n",
       "      <th>machine</th>\n",
       "      <td>0.004807</td>\n",
       "    </tr>\n",
       "    <tr>\n",
       "      <th>guide</th>\n",
       "      <td>0.004585</td>\n",
       "    </tr>\n",
       "    <tr>\n",
       "      <th>study</th>\n",
       "      <td>0.004525</td>\n",
       "    </tr>\n",
       "    <tr>\n",
       "      <th>learning</th>\n",
       "      <td>0.004417</td>\n",
       "    </tr>\n",
       "    <tr>\n",
       "      <th>source</th>\n",
       "      <td>0.004393</td>\n",
       "    </tr>\n",
       "    <tr>\n",
       "      <th>master</th>\n",
       "      <td>0.004280</td>\n",
       "    </tr>\n",
       "    <tr>\n",
       "      <th>degree</th>\n",
       "      <td>0.004275</td>\n",
       "    </tr>\n",
       "    <tr>\n",
       "      <th>process</th>\n",
       "      <td>0.004261</td>\n",
       "    </tr>\n",
       "    <tr>\n",
       "      <th>math</th>\n",
       "      <td>0.004211</td>\n",
       "    </tr>\n",
       "  </tbody>\n",
       "</table>\n",
       "</div>"
      ],
      "text/plain": [
       "                      coef\n",
       "de                0.029143\n",
       "pipeline          0.017752\n",
       "etl               0.016133\n",
       "spark             0.015687\n",
       "table             0.011617\n",
       "airflow           0.011389\n",
       "dbt               0.010034\n",
       "snowflake         0.009901\n",
       "statistic         0.009325\n",
       "databricks        0.008106\n",
       "aws               0.007849\n",
       "database          0.007594\n",
       "cloud             0.007482\n",
       "sql               0.007226\n",
       "lake              0.006050\n",
       "warehouse         0.005915\n",
       "apache            0.005537\n",
       "stack             0.005217\n",
       "machine learning  0.005156\n",
       "model             0.005081\n",
       "file              0.004929\n",
       "machine           0.004807\n",
       "guide             0.004585\n",
       "study             0.004525\n",
       "learning          0.004417\n",
       "source            0.004393\n",
       "master            0.004280\n",
       "degree            0.004275\n",
       "process           0.004261\n",
       "math              0.004211"
      ]
     },
     "execution_count": 37,
     "metadata": {},
     "output_type": "execute_result"
    }
   ],
   "source": [
    "gs_tfrf_coef1 = gs5.best_estimator_['rf'].feature_importances_\n",
    "gs_tfrf_coef_names1 = gs5.best_estimator_['cvec'].get_feature_names()\n",
    "gs_tfrf_df1 = pd.DataFrame(gs_tfrf_coef1, index = gs_tfrf_coef_names1, columns = ['coef'])\n",
    "gs_tfrf_df1.sort_values(ascending = False, by = ['coef']).head(30)"
   ]
  },
  {
   "cell_type": "code",
   "execution_count": 38,
   "id": "9c050c4d",
   "metadata": {},
   "outputs": [],
   "source": [
    "# Creating pipeline with TfidfVectorizer transformer and Random Forest estimator\n",
    "\n",
    "p6 = Pipeline([\n",
    "    ('tvec', TfidfVectorizer()),\n",
    "    ('rf', RandomForestClassifier())\n",
    "])"
   ]
  },
  {
   "cell_type": "code",
   "execution_count": 39,
   "id": "f63673a5",
   "metadata": {},
   "outputs": [],
   "source": [
    "p6_params = {\n",
    "    'tvec__max_features': [1500, 2000, 2500 ],\n",
    "    'tvec__stop_words':[stop_words],\n",
    "    'tvec__min_df':[2,3],\n",
    "    'tvec__ngram_range':[(1,2),(2,2)],\n",
    "    'rf__n_estimators':[125, 150, 175],\n",
    "    'rf__max_depth':[None, 1, 2]\n",
    "}"
   ]
  },
  {
   "cell_type": "code",
   "execution_count": 40,
   "id": "d6c4dbce",
   "metadata": {
    "scrolled": true
   },
   "outputs": [
    {
     "name": "stdout",
     "output_type": "stream",
     "text": [
      "Best score: 0.7950877192982457\n",
      "Best params: {'rf__max_depth': None, 'rf__n_estimators': 150, 'tvec__max_features': 1500, 'tvec__min_df': 3, 'tvec__ngram_range': (1, 2), 'tvec__stop_words': [\"you've\", 'all', 'own', 'ma', \"isn't\", 'can', \"mightn't\", 'have', 'won', 'job', 'our', 'below', 'when', 'will', 'now', 'hadn', 'couldn', 'does', 'doing', 'on', 'very', 'engineer', 'he', 'while', 'it', \"aren't\", 'each', 'other', 'll', 'who', 'o', \"should've\", 'above', 'aren', 'did', 'his', 'how', 'until', 'and', 'dataengineering', 'its', 'am', 'then', \"mustn't\", \"hadn't\", 'this', 'him', 'm', \"she's\", 'wasn', 'off', 'a', 'after', 'has', 'hers', 'was', \"you're\", 'www', \"it's\", 've', 'they', 'before', 'were', 'why', 'theirs', 'shan', 're', 'ourselves', 'against', 'isn', 'mustn', 'like', 'png', 'my', 'them', 'doesn', 'as', 'didn', 'same', 'than', 'hasn', 'herself', 'themselves', \"doesn't\", 'science', 'through', 'so', 'your', 'during', 'to', 'most', 'at', 'into', 'her', 'more', 'some', 'the', 'over', 'no', 'only', 'be', 't', 'youtube', 'we', 'y', 'which', 'these', \"wouldn't\", 'weren', 'further', 'ain', 's', \"couldn't\", 'nor', 'having', 'd', 'needn', 'know', 'an', 'again', \"hasn't\", 'such', \"haven't\", 'by', 'too', 'itself', 'had', 'if', 'up', 'here', 'scientist', 'are', 'down', \"you'll\", 'their', 'yours', 'or', \"shouldn't\", 'in', 'best', \"you'd\", 'good', 'that', 'what', 'with', 'x200b', 'engineering', 'mightn', 'thanks', \"weren't\", 'both', 'about', 'being', 'out', 'those', 'do', 'hi', 'there', 'because', 'yourself', 'himself', 'https', 'wouldn', 'myself', 'for', \"needn't\", 'any', 'data', 'few', 'datascience', 'i', 'ours', 'you', 'been', \"that'll\", 'she', 'don', 'whom', 'under', 'but', 'is', 'should', 'just', \"shan't\", 'between', 'amp', 'yourselves', 'not', \"didn't\", \"won't\", 'com', 'once', \"wasn't\", 'from', 'shouldn', \"don't\", 'vs', 'haven', 'where', 'me', 'of']}\n",
      "Train score: 0.9943859649122807\n",
      "Test score: 0.7815126050420168\n",
      "Wall time: 2min 34s\n"
     ]
    }
   ],
   "source": [
    "%%time\n",
    "\n",
    "# Fitting gs6 into X_train, y_train\n",
    "\n",
    "gs6 = GridSearchCV(p6, p6_params, cv = 5, scoring = 'accuracy',n_jobs = -1)\n",
    "\n",
    "gs6.fit(X_train, y_train)\n",
    "\n",
    "print('Best score:',gs6.best_score_)\n",
    "\n",
    "print('Best params:',gs6.best_params_)\n",
    "\n",
    "print('Train score:',gs6.score(X_train, y_train))\n",
    "\n",
    "print('Test score:',gs6.score(X_test, y_test))"
   ]
  },
  {
   "cell_type": "code",
   "execution_count": 41,
   "id": "67be2961",
   "metadata": {},
   "outputs": [
    {
     "name": "stdout",
     "output_type": "stream",
     "text": [
      "              precision    recall  f1-score   support\n",
      "\n",
      "           0       0.83      0.71      0.77       240\n",
      "           1       0.74      0.86      0.80       236\n",
      "\n",
      "    accuracy                           0.78       476\n",
      "   macro avg       0.79      0.78      0.78       476\n",
      "weighted avg       0.79      0.78      0.78       476\n",
      "\n",
      "Sensitivity: 0.8559\n",
      "Specificity: 0.7083\n"
     ]
    },
    {
     "data": {
      "image/png": "[encoded data removed]",
      "text/plain": [
       "<Figure size 432x288 with 2 Axes>"
      ]
     },
     "metadata": {
      "needs_background": "light"
     },
     "output_type": "display_data"
    }
   ],
   "source": [
    "plot_classification(gs6)"
   ]
  },
  {
   "cell_type": "code",
   "execution_count": 42,
   "id": "5e35c8bc",
   "metadata": {},
   "outputs": [
    {
     "data": {
      "text/html": [
       "<div>\n",
       "<style scoped>\n",
       "    .dataframe tbody tr th:only-of-type {\n",
       "        vertical-align: middle;\n",
       "    }\n",
       "\n",
       "    .dataframe tbody tr th {\n",
       "        vertical-align: top;\n",
       "    }\n",
       "\n",
       "    .dataframe thead th {\n",
       "        text-align: right;\n",
       "    }\n",
       "</style>\n",
       "<table border=\"1\" class=\"dataframe\">\n",
       "  <thead>\n",
       "    <tr style=\"text-align: right;\">\n",
       "      <th></th>\n",
       "      <th>coef</th>\n",
       "    </tr>\n",
       "  </thead>\n",
       "  <tbody>\n",
       "    <tr>\n",
       "      <th>de</th>\n",
       "      <td>0.029988</td>\n",
       "    </tr>\n",
       "    <tr>\n",
       "      <th>pipeline</th>\n",
       "      <td>0.019900</td>\n",
       "    </tr>\n",
       "    <tr>\n",
       "      <th>spark</th>\n",
       "      <td>0.018058</td>\n",
       "    </tr>\n",
       "    <tr>\n",
       "      <th>etl</th>\n",
       "      <td>0.014371</td>\n",
       "    </tr>\n",
       "    <tr>\n",
       "      <th>airflow</th>\n",
       "      <td>0.013523</td>\n",
       "    </tr>\n",
       "    <tr>\n",
       "      <th>statistic</th>\n",
       "      <td>0.011306</td>\n",
       "    </tr>\n",
       "    <tr>\n",
       "      <th>table</th>\n",
       "      <td>0.010611</td>\n",
       "    </tr>\n",
       "    <tr>\n",
       "      <th>dbt</th>\n",
       "      <td>0.010169</td>\n",
       "    </tr>\n",
       "    <tr>\n",
       "      <th>snowflake</th>\n",
       "      <td>0.009789</td>\n",
       "    </tr>\n",
       "    <tr>\n",
       "      <th>databricks</th>\n",
       "      <td>0.009129</td>\n",
       "    </tr>\n",
       "    <tr>\n",
       "      <th>database</th>\n",
       "      <td>0.008775</td>\n",
       "    </tr>\n",
       "    <tr>\n",
       "      <th>aws</th>\n",
       "      <td>0.008684</td>\n",
       "    </tr>\n",
       "    <tr>\n",
       "      <th>sql</th>\n",
       "      <td>0.007700</td>\n",
       "    </tr>\n",
       "    <tr>\n",
       "      <th>learning</th>\n",
       "      <td>0.007291</td>\n",
       "    </tr>\n",
       "    <tr>\n",
       "      <th>cloud</th>\n",
       "      <td>0.006881</td>\n",
       "    </tr>\n",
       "    <tr>\n",
       "      <th>master</th>\n",
       "      <td>0.006781</td>\n",
       "    </tr>\n",
       "    <tr>\n",
       "      <th>warehouse</th>\n",
       "      <td>0.006706</td>\n",
       "    </tr>\n",
       "    <tr>\n",
       "      <th>model</th>\n",
       "      <td>0.006622</td>\n",
       "    </tr>\n",
       "    <tr>\n",
       "      <th>process</th>\n",
       "      <td>0.006534</td>\n",
       "    </tr>\n",
       "    <tr>\n",
       "      <th>machine learning</th>\n",
       "      <td>0.005878</td>\n",
       "    </tr>\n",
       "    <tr>\n",
       "      <th>source</th>\n",
       "      <td>0.005825</td>\n",
       "    </tr>\n",
       "    <tr>\n",
       "      <th>guide</th>\n",
       "      <td>0.005814</td>\n",
       "    </tr>\n",
       "    <tr>\n",
       "      <th>lake</th>\n",
       "      <td>0.005489</td>\n",
       "    </tr>\n",
       "    <tr>\n",
       "      <th>apache</th>\n",
       "      <td>0.005433</td>\n",
       "    </tr>\n",
       "    <tr>\n",
       "      <th>study</th>\n",
       "      <td>0.005171</td>\n",
       "    </tr>\n",
       "    <tr>\n",
       "      <th>ml</th>\n",
       "      <td>0.005038</td>\n",
       "    </tr>\n",
       "    <tr>\n",
       "      <th>system</th>\n",
       "      <td>0.004999</td>\n",
       "    </tr>\n",
       "    <tr>\n",
       "      <th>tool</th>\n",
       "      <td>0.004998</td>\n",
       "    </tr>\n",
       "    <tr>\n",
       "      <th>get</th>\n",
       "      <td>0.004908</td>\n",
       "    </tr>\n",
       "    <tr>\n",
       "      <th>course</th>\n",
       "      <td>0.004842</td>\n",
       "    </tr>\n",
       "  </tbody>\n",
       "</table>\n",
       "</div>"
      ],
      "text/plain": [
       "                      coef\n",
       "de                0.029988\n",
       "pipeline          0.019900\n",
       "spark             0.018058\n",
       "etl               0.014371\n",
       "airflow           0.013523\n",
       "statistic         0.011306\n",
       "table             0.010611\n",
       "dbt               0.010169\n",
       "snowflake         0.009789\n",
       "databricks        0.009129\n",
       "database          0.008775\n",
       "aws               0.008684\n",
       "sql               0.007700\n",
       "learning          0.007291\n",
       "cloud             0.006881\n",
       "master            0.006781\n",
       "warehouse         0.006706\n",
       "model             0.006622\n",
       "process           0.006534\n",
       "machine learning  0.005878\n",
       "source            0.005825\n",
       "guide             0.005814\n",
       "lake              0.005489\n",
       "apache            0.005433\n",
       "study             0.005171\n",
       "ml                0.005038\n",
       "system            0.004999\n",
       "tool              0.004998\n",
       "get               0.004908\n",
       "course            0.004842"
      ]
     },
     "execution_count": 42,
     "metadata": {},
     "output_type": "execute_result"
    }
   ],
   "source": [
    "gs_tfrf_coef = gs6.best_estimator_['rf'].feature_importances_\n",
    "gs_tfrf_coef_names = gs6.best_estimator_['tvec'].get_feature_names()\n",
    "gs_tfrf_df = pd.DataFrame(gs_tfrf_coef, index = gs_tfrf_coef_names, columns = ['coef'])\n",
    "gs_tfrf_df.sort_values(ascending = False, by = ['coef']).head(30)"
   ]
  },
  {
   "cell_type": "markdown",
   "id": "d5e6d7b1",
   "metadata": {},
   "source": [
    "The words with highest feature importance seem to refer to terms in data engineering (apart from 'statistic'). This is further corroborated with the sensitivity higher than specificity for both random forest models. It seems like the model is able to predict 'data engineering' subreddits with better accuracy than 'data science.'"
   ]
  },
  {
   "cell_type": "markdown",
   "id": "0b343758",
   "metadata": {},
   "source": [
    "### Model Selection"
   ]
  },
  {
   "cell_type": "markdown",
   "id": "6e5a7058",
   "metadata": {},
   "source": [
    "As both false positives and false negatives are equally detrimental in prediction, we will be choosing the model with the highest accuracy in prediction, which is the **Logistic Regression with TfidfVectorization** and plotting further matrices with this model on the test data."
   ]
  },
  {
   "cell_type": "code",
   "execution_count": 43,
   "id": "025e1941",
   "metadata": {},
   "outputs": [
    {
     "data": {
      "text/plain": [
       "<matplotlib.legend.Legend at 0x29f2ca1cc70>"
      ]
     },
     "execution_count": 43,
     "metadata": {},
     "output_type": "execute_result"
    },
    {
     "data": {
      "image/png": "[encoded data removed]",
      "text/plain": [
       "<Figure size 432x288 with 1 Axes>"
      ]
     },
     "metadata": {
      "needs_background": "light"
     },
     "output_type": "display_data"
    }
   ],
   "source": [
    "# Instatiating new model with best params and plot_roc_curve(lr, X_test, y_test)\n",
    "pipe = Pipeline([\n",
    "    ('tfidf',TfidfVectorizer(max_features = 3500, stop_words = stop_words, ngram_range = [1,2], min_df = 2)),\n",
    "    ('lr',LogisticRegression(C = 1, penalty = 'l2', solver = 'liblinear'))\n",
    "    ])\n",
    "\n",
    "# Fit model\n",
    "pipe.fit(X_train, y_train)\n",
    "     \n",
    "# Predict y_test results and plot ROC AUC curve\n",
    "\n",
    "plot_roc_curve(pipe, X_test, y_test)   \n",
    "     \n",
    "plt.plot([0, 1], [0, 1],\n",
    "         label='baseline', linestyle='--')\n",
    "plt.legend()"
   ]
  },
  {
   "cell_type": "code",
   "execution_count": 44,
   "id": "b9ca309e",
   "metadata": {},
   "outputs": [
    {
     "data": {
      "text/plain": [
       "0.8900070621468927"
      ]
     },
     "execution_count": 44,
     "metadata": {},
     "output_type": "execute_result"
    }
   ],
   "source": [
    "roc_auc_score(y_test, pipe.predict_proba(X_test)[:,1])"
   ]
  },
  {
   "cell_type": "markdown",
   "id": "7bf22bb3",
   "metadata": {},
   "source": [
    "A score of 0.89 for our ROC curve means that there is not much overlap between the positives and negatives. A score of 1 signifies a perfect model."
   ]
  },
  {
   "cell_type": "code",
   "execution_count": 45,
   "id": "bc0ff820",
   "metadata": {
    "scrolled": false
   },
   "outputs": [
    {
     "name": "stdout",
     "output_type": "stream",
     "text": [
      "              precision    recall  f1-score   support\n",
      "\n",
      "           0       0.82      0.79      0.81       240\n",
      "           1       0.80      0.82      0.81       236\n",
      "\n",
      "    accuracy                           0.81       476\n",
      "   macro avg       0.81      0.81      0.81       476\n",
      "weighted avg       0.81      0.81      0.81       476\n",
      "\n",
      "Sensitivity: 0.822\n",
      "Specificity: 0.7917\n"
     ]
    },
    {
     "data": {
      "image/png": "[encoded data removed]",
      "text/plain": [
       "<Figure size 432x288 with 2 Axes>"
      ]
     },
     "metadata": {
      "needs_background": "light"
     },
     "output_type": "display_data"
    }
   ],
   "source": [
    "# Plot chosen model metrics with best params\n",
    "\n",
    "plot_classification(pipe)"
   ]
  },
  {
   "cell_type": "markdown",
   "id": "b4b0b18f",
   "metadata": {},
   "source": [
    "## Findings"
   ]
  },
  {
   "cell_type": "markdown",
   "id": "a616cdc2",
   "metadata": {},
   "source": [
    "| |Train Accuracy|Test Accuracy|\n",
    "|---|---|---|\n",
    "|**Multinomial Naive Bayes (CountVectorization)**|0.847|0.760|\n",
    "|**Multinomial Naive Bayes (TfidfVectorization)**|0.905|0.798|\n",
    "|**Logistic Regression (CountVectorization)**|0.982|0.756|\n",
    "|**Logistic Regression (TfidfVectorization)**|0.943|0.806|\n",
    "|**Random Forest Classifier (CountVectorizer)**|0.994|0.773|\n",
    "|**Random Forest Classifier (TfidfVectorizer)**|0.994|0.781|"
   ]
  },
  {
   "cell_type": "code",
   "execution_count": 46,
   "id": "56d2c474",
   "metadata": {},
   "outputs": [
    {
     "data": {
      "image/png": "[encoded data removed]",
      "text/plain": [
       "<Figure size 720x720 with 1 Axes>"
      ]
     },
     "metadata": {
      "needs_background": "light"
     },
     "output_type": "display_data"
    }
   ],
   "source": [
    "# Plotting the top 30 words in both subreddits for LogisticRegression model \n",
    "\n",
    "lr_coef1 = gs4.best_estimator_['lr'].coef_[0]\n",
    "lr_names1 = gs4.best_estimator_['tvec'].get_feature_names()\n",
    "lr_coef_df1 = pd.DataFrame(lr_coef1, index = lr_names1, columns = ['coef'])\n",
    "lr_coef_df1['abs_coef'] = abs(lr_coef_df1['coef'])\n",
    "lr_coef_plot1 = lr_coef_df1.sort_values(ascending = False, by = 'abs_coef').head(30)\n",
    "lr_coef_plot1\n",
    "\n",
    "# define a list of colour according to positive or negative values\n",
    "color_lst = ['skyblue' if float(x) < 0  else 'orange' for x in lr_coef_plot1['coef']]\n",
    "\n",
    "# plot barplot\n",
    "plt.figure(figsize = (10,10))\n",
    "sns.barplot(x = lr_coef_plot1['coef'],\n",
    "            y = lr_coef_plot1.index,\n",
    "            palette = color_lst)\n",
    "plt.title('   r/dataengineering                               r/datascience', fontsize = 20)\n",
    "plt.xticks(fontsize = 14)\n",
    "plt.yticks(fontsize = 14)\n",
    "plt.xlabel('Coefficients Value (tvec, lr)', fontsize = 14)\n",
    "plt.grid(linestyle = '--', alpha = 0.8);"
   ]
  },
  {
   "cell_type": "markdown",
   "id": "2189a4b6",
   "metadata": {},
   "source": [
    "It is interesting to note that after removing similar keywords, stopwords and hyperparameter tuning, the models still turns out to be rather overfit, with some models being overfit as much as 22%. The number of false positives are also higher than the false negatives across all models tested. Comparing vectorizers, **TfidfVectorizer** appears to do better in terms of accuracy than CountVectorizer.\n",
    "\n",
    "The results serves to show that data science and data engineering are ultimately very closely related. As we are prioritising on accuracy, the model we have chosen is the **LogisticRegression(TfidfVectorizer)** model (80% accuracy). It is worthy to note that while this model has the highest accuracy score, the **Multinomial Naive Bayes(CountVectorizer)** model has the least overfit compared to the other models tested."
   ]
  },
  {
   "cell_type": "code",
   "execution_count": 47,
   "id": "bd27d399",
   "metadata": {
    "scrolled": true
   },
   "outputs": [
    {
     "data": {
      "text/html": [
       "<div>\n",
       "<style scoped>\n",
       "    .dataframe tbody tr th:only-of-type {\n",
       "        vertical-align: middle;\n",
       "    }\n",
       "\n",
       "    .dataframe tbody tr th {\n",
       "        vertical-align: top;\n",
       "    }\n",
       "\n",
       "    .dataframe thead th {\n",
       "        text-align: right;\n",
       "    }\n",
       "</style>\n",
       "<table border=\"1\" class=\"dataframe\">\n",
       "  <thead>\n",
       "    <tr style=\"text-align: right;\">\n",
       "      <th></th>\n",
       "      <th>top words</th>\n",
       "      <th>coef</th>\n",
       "      <th>log_odds</th>\n",
       "    </tr>\n",
       "  </thead>\n",
       "  <tbody>\n",
       "    <tr>\n",
       "      <th>statistic</th>\n",
       "      <td>statistic</td>\n",
       "      <td>1.697906</td>\n",
       "      <td>5.462497</td>\n",
       "    </tr>\n",
       "    <tr>\n",
       "      <th>model</th>\n",
       "      <td>model</td>\n",
       "      <td>1.313405</td>\n",
       "      <td>3.718816</td>\n",
       "    </tr>\n",
       "    <tr>\n",
       "      <th>ml</th>\n",
       "      <td>ml</td>\n",
       "      <td>1.261807</td>\n",
       "      <td>3.531798</td>\n",
       "    </tr>\n",
       "    <tr>\n",
       "      <th>study</th>\n",
       "      <td>study</td>\n",
       "      <td>1.241853</td>\n",
       "      <td>3.462023</td>\n",
       "    </tr>\n",
       "    <tr>\n",
       "      <th>university</th>\n",
       "      <td>university</td>\n",
       "      <td>1.232917</td>\n",
       "      <td>3.431224</td>\n",
       "    </tr>\n",
       "    <tr>\n",
       "      <th>dataset</th>\n",
       "      <td>dataset</td>\n",
       "      <td>1.205594</td>\n",
       "      <td>3.338743</td>\n",
       "    </tr>\n",
       "    <tr>\n",
       "      <th>analysis</th>\n",
       "      <td>analysis</td>\n",
       "      <td>1.136973</td>\n",
       "      <td>3.117317</td>\n",
       "    </tr>\n",
       "    <tr>\n",
       "      <th>master</th>\n",
       "      <td>master</td>\n",
       "      <td>1.131142</td>\n",
       "      <td>3.099195</td>\n",
       "    </tr>\n",
       "    <tr>\n",
       "      <th>degree</th>\n",
       "      <td>degree</td>\n",
       "      <td>1.097154</td>\n",
       "      <td>2.995629</td>\n",
       "    </tr>\n",
       "    <tr>\n",
       "      <th>research</th>\n",
       "      <td>research</td>\n",
       "      <td>1.094171</td>\n",
       "      <td>2.986705</td>\n",
       "    </tr>\n",
       "  </tbody>\n",
       "</table>\n",
       "</div>"
      ],
      "text/plain": [
       "             top words      coef  log_odds\n",
       "statistic    statistic  1.697906  5.462497\n",
       "model            model  1.313405  3.718816\n",
       "ml                  ml  1.261807  3.531798\n",
       "study            study  1.241853  3.462023\n",
       "university  university  1.232917  3.431224\n",
       "dataset        dataset  1.205594  3.338743\n",
       "analysis      analysis  1.136973  3.117317\n",
       "master          master  1.131142  3.099195\n",
       "degree          degree  1.097154  2.995629\n",
       "research      research  1.094171  2.986705"
      ]
     },
     "execution_count": 47,
     "metadata": {},
     "output_type": "execute_result"
    }
   ],
   "source": [
    "# Plotting top30 words for each subreddit\n",
    "\n",
    "# Datascience\n",
    "coef4 = gs4.best_estimator_.named_steps['lr'].coef_\n",
    "features4 = gs4.best_estimator_.named_steps['tvec'].get_feature_names()\n",
    "coef_df = pd.DataFrame({'top words': features4,'coef': coef4[0]},index = features4)\n",
    "coef_df['log_odds'] = coef_df['coef'].map(lambda x: math.exp(x))\n",
    "coef_df = coef_df.sort_values('log_odds', ascending = False)\n",
    "coef_df.head(10)\n",
    "\n",
    "# Dataengineering\n",
    "coef_df1 = pd.DataFrame({'top words': features4,'coef': coef4[0]},index = features4)\n",
    "coef_df['log_odds'] = coef_df['coef'].map(lambda x: math.exp(x))\n",
    "coef_df = coef_df.sort_values('log_odds', ascending = False)\n",
    "coef_df.head(10)"
   ]
  },
  {
   "cell_type": "code",
   "execution_count": 48,
   "id": "cc6489be",
   "metadata": {},
   "outputs": [],
   "source": [
    "# Setting labels for plotting top 20 words\n",
    "\n",
    "weights = coef_df['coef'].sort_values(ascending = False).head(20)\n",
    "weights_reverse = coef_df['coef'].sort_values(ascending = True).head(20)\n",
    "labels = weights.index\n",
    "labels_reverse = weights_reverse.index"
   ]
  },
  {
   "cell_type": "code",
   "execution_count": 49,
   "id": "9b1e771e",
   "metadata": {},
   "outputs": [
    {
     "data": {
      "image/png": "[encoded data removed]",
      "text/plain": [
       "<Figure size 1080x720 with 2 Axes>"
      ]
     },
     "metadata": {
      "needs_background": "light"
     },
     "output_type": "display_data"
    }
   ],
   "source": [
    "# Plotting top 20 words for each subreddit\n",
    "\n",
    "fig, ax = plt.subplots(nrows = 1, ncols = 2, figsize=(15, 10))\n",
    "sns.set_color_codes(\"muted\")\n",
    "\n",
    "# Barplot for r/dataengineering\n",
    "sns.barplot(ax = ax[0],x = weights_reverse, y = labels_reverse,\n",
    "            data = coef_df, \n",
    "            orient = \"h\")\n",
    "ax[0].set_title('Top 20 words r/dataengineering', fontsize = 20)\n",
    "ax[0].set_yticklabels(labels_reverse, Fontsize = 15)\n",
    "\n",
    "# Barplot for r/datascience\n",
    "sns.barplot(ax = ax[1], x = weights, y = labels, \n",
    "            data = coef_df,\n",
    "            orient = \"h\")\n",
    "ax[1].set_title('Top 20 words r/datascience', fontsize = 20)\n",
    "ax[1].set_yticklabels(labels, Fontsize = 15)\n",
    "plt.tight_layout()"
   ]
  },
  {
   "cell_type": "markdown",
   "id": "cd8734af",
   "metadata": {},
   "source": [
    "The top words in data engineering reddits tend to revolve around data engineering tools such as snowflake, spark, airflow. The word that gave the most predictive power for dataengineering was 'de', which stands for 'data engineering'. Words from the data science reddits are more analytical and academic in nature. The word which lends the most predictive power was 'statistic', a study that data scientists excel in."
   ]
  },
  {
   "cell_type": "markdown",
   "id": "4620d1ce",
   "metadata": {},
   "source": [
    "## Conclusion and Recommendation"
   ]
  },
  {
   "cell_type": "markdown",
   "id": "1b63f222",
   "metadata": {},
   "source": [
    "With an accuracy score of 80%, the **Logistic Regression model with TfidfVectorizer** was the best performer among the models tested, albeit not by a huge margin. Among the tested models, TfidfVectorizers tend to score better than CountVectorizer models and random forest models have a high degree of overfit.\n",
    "\n",
    "Even though the subreddit topics are closely related in nature, we can see through the top words in each posts that they do have their differences. Words in dataengineering reddit posts tend to steer towards technical terms and data engineering tools such as 'spark','snowflake', 'apache' and 'airflow'. These are tools which data engineers commonly use. \n",
    "\n",
    "On the other hand, top words in datascience reddit posts are more academic and analytical in nature. Words such as 'statistics', 'model', 'ml', 'dataset' are very relevant to what data scientists do on a daily basis. It is also interesting to note that there are some words such as 'university', 'degree', 'master', 'study', 'phd', which suggests that the entry barrier into this field is high and it is very academic in nature. This is to be expected with data science being a highly sought after industry as of recent years and data scientist roles being termed 'The Sexiest Job of the 21st Century'. \n",
    "\n",
    "To improve model accuracy, a bigger dataset with more vocabulary could be obtained. The industry is changing at a very rapid pace, with new machine learning models, data engineering tools being developed every few years to futher streamline processes, make learning about data easier and generally helps people be familiar with the concept of living with data. We could also look to increase the range of models to test on, such as K-Nearest-Neighbor, Support Vector Machine or explore using other classifier methods such as word similarities with Word2Vec or vector distances with GloVe."
   ]
  }
 ],
 "metadata": {
  "kernelspec": {
   "display_name": "Python 3",
   "language": "python",
   "name": "python3"
  },
  "language_info": {
   "codemirror_mode": {
    "name": "ipython",
    "version": 3
   },
   "file_extension": ".py",
   "mimetype": "text/x-python",
   "name": "python",
   "nbconvert_exporter": "python",
   "pygments_lexer": "ipython3",
   "version": "3.8.8"
  },
  "toc": {
   "base_numbering": 1,
   "nav_menu": {},
   "number_sections": true,
   "sideBar": true,
   "skip_h1_title": false,
   "title_cell": "Table of Contents",
   "title_sidebar": "Contents",
   "toc_cell": false,
   "toc_position": {
    "height": "903.333px",
    "left": "865px",
    "top": "241.441px",
    "width": "319.503px"
   },
   "toc_section_display": true,
   "toc_window_display": true
  },
  "varInspector": {
   "cols": {
    "lenName": 16,
    "lenType": 16,
    "lenVar": 40
   },
   "kernels_config": {
    "python": {
     "delete_cmd_postfix": "",
     "delete_cmd_prefix": "del ",
     "library": "var_list.py",
     "varRefreshCmd": "print(var_dic_list())"
    },
    "r": {
     "delete_cmd_postfix": ") ",
     "delete_cmd_prefix": "rm(",
     "library": "var_list.r",
     "varRefreshCmd": "cat(var_dic_list()) "
    }
   },
   "types_to_exclude": [
    "module",
    "function",
    "builtin_function_or_method",
    "instance",
    "_Feature"
   ],
   "window_display": false
  }
 },
 "nbformat": 4,
 "nbformat_minor": 5
}
