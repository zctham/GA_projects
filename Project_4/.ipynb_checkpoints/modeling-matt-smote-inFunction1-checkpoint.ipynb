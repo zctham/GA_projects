{
 "cells": [
  {
   "cell_type": "markdown",
   "id": "528c1ae0",
   "metadata": {},
   "source": [
    "# Project 4 : West Nile Virus Classification"
   ]
  },
  {
   "cell_type": "code",
   "execution_count": 1,
   "id": "e4d922f0",
   "metadata": {},
   "outputs": [],
   "source": [
    "# Import libraries\n",
    "import pandas as pd\n",
    "import numpy as np\n",
    "import matplotlib.pyplot as plt\n",
    "import seaborn as sns\n",
    "import pickle\n",
    "\n",
    "from sklearn.preprocessing import StandardScaler\n",
    "from sklearn.model_selection import train_test_split, GridSearchCV, cross_val_score\n",
    "from sklearn.pipeline import Pipeline\n",
    "from sklearn.linear_model import LogisticRegression\n",
    "from sklearn.neighbors import KNeighborsClassifier\n",
    "from sklearn.metrics import (confusion_matrix, classification_report, plot_roc_curve, roc_auc_score, \n",
    "accuracy_score, precision_score, recall_score, f1_score, auc, precision_recall_curve, average_precision_score)\n",
    "\n",
    "from sklearn.tree import DecisionTreeClassifier\n",
    "from sklearn.ensemble import RandomForestClassifier, ExtraTreesClassifier, GradientBoostingClassifier, AdaBoostClassifier\n",
    "\n",
    "from sklearn.svm import SVC\n",
    "\n",
    "import imblearn\n",
    "from imblearn.under_sampling import RandomUnderSampler\n",
    "from imblearn.over_sampling import SMOTE\n",
    "from imblearn.pipeline import Pipeline\n",
    "\n",
    "# pd.set_option('display.max_rows', 500)\n",
    "pd.set_option('display.max_columns', None)"
   ]
  },
  {
   "cell_type": "code",
   "execution_count": 2,
   "id": "c6ada136",
   "metadata": {},
   "outputs": [],
   "source": [
    "# Import data\n",
    "train = pd.read_csv('../data/combined_train.csv')\n",
    "test = pd.read_csv('../data/combined_test.csv')"
   ]
  },
  {
   "cell_type": "code",
   "execution_count": 3,
   "id": "ab41ae92",
   "metadata": {},
   "outputs": [],
   "source": [
    "train.drop('date', axis=1, inplace=True)"
   ]
  },
  {
   "cell_type": "markdown",
   "id": "5b1b7836",
   "metadata": {},
   "source": [
    "## Train Test Split"
   ]
  },
  {
   "cell_type": "code",
   "execution_count": 4,
   "id": "a0920ec0",
   "metadata": {},
   "outputs": [],
   "source": [
    "X = train[[col for col in train != 'wnvpresent']]\n",
    "y = train['wnvpresent']"
   ]
  },
  {
   "cell_type": "code",
   "execution_count": 5,
   "id": "8c3dd436",
   "metadata": {},
   "outputs": [],
   "source": [
    "X_train, X_test, y_train, y_test = train_test_split(X, y, stratify=y, random_state=42)"
   ]
  },
  {
   "cell_type": "markdown",
   "id": "b7085250",
   "metadata": {},
   "source": [
    "## Baseline Model"
   ]
  },
  {
   "cell_type": "code",
   "execution_count": 6,
   "id": "a1e27ff4",
   "metadata": {},
   "outputs": [
    {
     "data": {
      "text/plain": [
       "0    0.947554\n",
       "1    0.052446\n",
       "Name: wnvpresent, dtype: float64"
      ]
     },
     "execution_count": 6,
     "metadata": {},
     "output_type": "execute_result"
    }
   ],
   "source": [
    "# Baseline\n",
    "y = train['wnvpresent']\n",
    "y.value_counts(normalize=True)"
   ]
  },
  {
   "cell_type": "markdown",
   "id": "c7910c5f",
   "metadata": {},
   "source": [
    "## Hyperparameter Tuning with SMOTE"
   ]
  },
  {
   "cell_type": "code",
   "execution_count": 7,
   "id": "23aedc1b",
   "metadata": {},
   "outputs": [],
   "source": [
    "# smt = SMOTE()\n",
    "# Xsm_train, ysm_train = smt.fit_resample(X_train, y_train)"
   ]
  },
  {
   "cell_type": "code",
   "execution_count": 8,
   "id": "54c6dc96",
   "metadata": {},
   "outputs": [],
   "source": [
    "# Create list to store model testing results\n",
    "eval_list = []\n",
    "init_list = []"
   ]
  },
  {
   "cell_type": "code",
   "execution_count": 9,
   "id": "e7ca1068",
   "metadata": {},
   "outputs": [],
   "source": [
    "# Instiantiate models\n",
    "models = {'lr': LogisticRegression(max_iter=5_000, random_state=42),\n",
    "          'svc': SVC(random_state=42, probability=True),\n",
    "          'knn': KNeighborsClassifier(),\n",
    "          'rf': RandomForestClassifier(random_state=42),\n",
    "          'dt': DecisionTreeClassifier(random_state=42),\n",
    "          'et': ExtraTreesClassifier(random_state=42),\n",
    "          'ada': AdaBoostClassifier(random_state=42),\n",
    "          'gb': GradientBoostingClassifier(random_state=42)\n",
    "#           'xgb': xgb.XGBClassifier(random_state=42)\n",
    "        }"
   ]
  },
  {
   "cell_type": "code",
   "execution_count": 10,
   "id": "44b60d5c",
   "metadata": {},
   "outputs": [],
   "source": [
    "# ==========LR==========\n",
    "# Matt's LR\n",
    "lr_params = {\n",
    "    'lr__penalty':['l2', 'none'],\n",
    "    'lr__solver':['newton-cg', 'lbfgs', 'sag', 'saga'],\n",
    "    'lr__C':[0.01, 0.1, 1, 10],\n",
    "    'lr__class_weight':[None, 'balanced']\n",
    "}\n",
    "\n",
    "# # Benjamin's LR\n",
    "# lr_params = {\n",
    "#     # Trying different types of regularization\n",
    "#     'lr__penalty':['l2','l1', 'elasticnet'],\n",
    "\n",
    "#      # Trying different alphas of: 1, 0.1, 0.05  (C = 1/alpha)\n",
    "#     'lr__C':[1, 10, 20],\n",
    "# }\n",
    "\n",
    "# # Elaine's LR\n",
    "# lr_params = {\n",
    "#     'lr__penalty':['l1', 'l2'],\n",
    "#     'lr__solver':['liblinear'],\n",
    "#     'lr__C':np.logspace(-5, 0, 5),\n",
    "#     'lr__class_weight':['balanced']\n",
    "# }\n",
    "\n",
    "# ==========SVC==========\n",
    "# # Matt's SVC\n",
    "# svc_params = {\n",
    "#     'svc__C':[0.1, 1, 10, 30],\n",
    "#     'svc__gamma':[0.01, 0.1, 0.3], \n",
    "#     'svc__kernel':['linear','rbf','sigmoid','poly','precomputed'],\n",
    "# }\n",
    "\n",
    "# Matt's SVC (2)\n",
    "svc_params = {\n",
    "    'svc__C':[0.1, 1, 10],\n",
    "    'svc__gamma':[0.01, 0.1, 0.3], \n",
    "    'svc__kernel':['linear','rbf','sigmoid']\n",
    "}\n",
    "\n",
    "# # Benjamin's SVC\n",
    "# svc_params = {\n",
    "#     'svc__C':[10, 30],\n",
    "#     'svc__gamma':[0.01, 0.1], \n",
    "#     'svc__kernel':['rbf', 'sigmoid'],\n",
    "# }\n",
    "\n",
    "# # Esther's SVC\n",
    "# svc_params = {\n",
    "#     'svc__C':[0.1, 1, 10],\n",
    "#     'svc__gamma':[0.01, 0.1, 0.3], \n",
    "#     'svc__kernel':['linear','rbf']\n",
    "# }\n",
    "\n",
    "# ==========KNN==========\n",
    "# Matt's KNN\n",
    "knn_params = {\n",
    "    'knn__weights':['uniform', 'distance'],\n",
    "    'knn__algorithm':['auto', 'ball_tree', 'kd_tree', 'brute']\n",
    "}\n",
    "\n",
    "# rf_params = {\n",
    "#     'rf__n_estimators': [150, 300],\n",
    "#     'rf__max_depth': [None, 1]\n",
    "# }"
   ]
  },
  {
   "cell_type": "code",
   "execution_count": 11,
   "id": "41ae4547",
   "metadata": {},
   "outputs": [],
   "source": [
    "# Function to run model -- input model and params\n",
    "def run_model(mod, params_dict={}, grid_search=True):\n",
    "    \n",
    "    results = {}\n",
    "    \n",
    "    pipe = Pipeline([\n",
    "        ('ss', StandardScaler()),\n",
    "        ('sampling', SMOTE(random_state = 42)),\n",
    "        (mod, models[mod])\n",
    "        ])\n",
    "    \n",
    "    if grid_search:\n",
    "        gs = GridSearchCV(pipe, param_grid = params_dict, cv=5, scoring = 'roc_auc', verbose=1, n_jobs=2)\n",
    "        gs.fit(X_train, y_train)\n",
    "        pipe = gs\n",
    "        \n",
    "    else:\n",
    "        pipe.fit(X_train, y_train)\n",
    "        \n",
    "    # Retrieve metrics\n",
    "    predictions = pipe.predict(X_test)\n",
    "    tn, fp, fn, tp = confusion_matrix(y_test, predictions).ravel()\n",
    "    y_test_pred_prob = pipe.predict_proba(X_test)[:,1]\n",
    "    y_train_pred_prob = pipe.predict_proba(X_train)[:,1]\n",
    "    \n",
    "    results['model'] = mod\n",
    "    results['train_auc'] = roc_auc_score(y_train, y_train_pred_prob)\n",
    "    results['test_auc'] = roc_auc_score(y_test, y_test_pred_prob)\n",
    "    results['precision'] = precision_score(y_test, predictions)\n",
    "    results['specificity'] = tn / (tn + fp)\n",
    "    results['recall'] = recall_score(y_test, predictions)\n",
    "    results['f_score'] = f1_score(y_test, predictions)\n",
    "    \n",
    "    if grid_search:\n",
    "        eval_list.append(results)\n",
    "        print('### BEST PARAMS ###')\n",
    "        display(pipe.best_params_)\n",
    "        \n",
    "    else:\n",
    "        init_list.append(results)\n",
    "    \n",
    "    print('### METRICS ###')\n",
    "    display(results)\n",
    "    \n",
    "    print(f\"True Negatives: {tn}\")\n",
    "    print(f\"False Positives: {fp}\")\n",
    "    print(f\"False Negatives: {fn}\")\n",
    "    print(f\"True Positives: {tp}\")\n",
    "    \n",
    "    return pipe"
   ]
  },
  {
   "cell_type": "markdown",
   "id": "ac544334",
   "metadata": {},
   "source": [
    "### Logistic Regression"
   ]
  },
  {
   "cell_type": "code",
   "execution_count": 12,
   "id": "cf0874ca",
   "metadata": {},
   "outputs": [
    {
     "name": "stdout",
     "output_type": "stream",
     "text": [
      "Fitting 5 folds for each of 64 candidates, totalling 320 fits\n",
      "### BEST PARAMS ###\n"
     ]
    },
    {
     "data": {
      "text/plain": [
       "{'lr__C': 0.01,\n",
       " 'lr__class_weight': None,\n",
       " 'lr__penalty': 'l2',\n",
       " 'lr__solver': 'newton-cg'}"
      ]
     },
     "metadata": {},
     "output_type": "display_data"
    },
    {
     "name": "stdout",
     "output_type": "stream",
     "text": [
      "### METRICS ###\n"
     ]
    },
    {
     "data": {
      "text/plain": [
       "{'model': 'lr',\n",
       " 'train_auc': 1.0,\n",
       " 'test_auc': 1.0,\n",
       " 'precision': 1.0,\n",
       " 'specificity': 1.0,\n",
       " 'recall': 1.0,\n",
       " 'f_score': 1.0}"
      ]
     },
     "metadata": {},
     "output_type": "display_data"
    },
    {
     "name": "stdout",
     "output_type": "stream",
     "text": [
      "True Negatives: 2489\n",
      "False Positives: 0\n",
      "False Negatives: 0\n",
      "True Positives: 138\n"
     ]
    }
   ],
   "source": [
    "lr_gs = run_model('lr', params_dict=lr_params, grid_search=True)"
   ]
  },
  {
   "cell_type": "markdown",
   "id": "6688ecc4",
   "metadata": {},
   "source": [
    "### SVC"
   ]
  },
  {
   "cell_type": "code",
   "execution_count": 14,
   "id": "4cf8132a",
   "metadata": {},
   "outputs": [
    {
     "name": "stdout",
     "output_type": "stream",
     "text": [
      "Fitting 5 folds for each of 48 candidates, totalling 240 fits\n",
      "### BEST PARAMS ###\n"
     ]
    },
    {
     "data": {
      "text/plain": [
       "{'svc__C': 0.01, 'svc__gamma': 0.01, 'svc__kernel': 'linear'}"
      ]
     },
     "metadata": {},
     "output_type": "display_data"
    },
    {
     "name": "stdout",
     "output_type": "stream",
     "text": [
      "### METRICS ###\n"
     ]
    },
    {
     "data": {
      "text/plain": [
       "{'model': 'svc',\n",
       " 'train_auc': 1.0,\n",
       " 'test_auc': 1.0,\n",
       " 'precision': 1.0,\n",
       " 'specificity': 1.0,\n",
       " 'recall': 1.0,\n",
       " 'f_score': 1.0}"
      ]
     },
     "metadata": {},
     "output_type": "display_data"
    },
    {
     "name": "stdout",
     "output_type": "stream",
     "text": [
      "True Negatives: 2489\n",
      "False Positives: 0\n",
      "False Negatives: 0\n",
      "True Positives: 138\n"
     ]
    }
   ],
   "source": [
    "svc_gs = run_model('svc', params_dict=svc_params, grid_search=True)"
   ]
  },
  {
   "cell_type": "markdown",
   "id": "a3a7d8fe",
   "metadata": {},
   "source": [
    "### KNN"
   ]
  },
  {
   "cell_type": "code",
   "execution_count": null,
   "id": "6fac7e0f",
   "metadata": {},
   "outputs": [],
   "source": [
    "knn_gs = run_model('knn', params_dict=knn_params, grid_search=True)"
   ]
  },
  {
   "cell_type": "code",
   "execution_count": null,
   "id": "b1ef06a9",
   "metadata": {},
   "outputs": [],
   "source": [
    "asd"
   ]
  },
  {
   "cell_type": "markdown",
   "id": "8aadae74",
   "metadata": {},
   "source": [
    "## Model Evaluation Summary"
   ]
  },
  {
   "cell_type": "code",
   "execution_count": null,
   "id": "d8efc034",
   "metadata": {},
   "outputs": [],
   "source": [
    "eval_df = pd.DataFrame(eval_list)"
   ]
  },
  {
   "cell_type": "code",
   "execution_count": null,
   "id": "68dd5a32",
   "metadata": {},
   "outputs": [],
   "source": [
    "eval_df.sort_values(by=['test', 'roc'], ascending=False).reset_index(drop=True)"
   ]
  }
 ],
 "metadata": {
  "kernelspec": {
   "display_name": "Python 3",
   "language": "python",
   "name": "python3"
  },
  "language_info": {
   "codemirror_mode": {
    "name": "ipython",
    "version": 3
   },
   "file_extension": ".py",
   "mimetype": "text/x-python",
   "name": "python",
   "nbconvert_exporter": "python",
   "pygments_lexer": "ipython3",
   "version": "3.8.8"
  },
  "toc": {
   "base_numbering": 1,
   "nav_menu": {},
   "number_sections": true,
   "sideBar": true,
   "skip_h1_title": false,
   "title_cell": "Table of Contents",
   "title_sidebar": "Contents",
   "toc_cell": false,
   "toc_position": {},
   "toc_section_display": true,
   "toc_window_display": true
  },
  "varInspector": {
   "cols": {
    "lenName": 16,
    "lenType": 16,
    "lenVar": 40
   },
   "kernels_config": {
    "python": {
     "delete_cmd_postfix": "",
     "delete_cmd_prefix": "del ",
     "library": "var_list.py",
     "varRefreshCmd": "print(var_dic_list())"
    },
    "r": {
     "delete_cmd_postfix": ") ",
     "delete_cmd_prefix": "rm(",
     "library": "var_list.r",
     "varRefreshCmd": "cat(var_dic_list()) "
    }
   },
   "types_to_exclude": [
    "module",
    "function",
    "builtin_function_or_method",
    "instance",
    "_Feature"
   ],
   "window_display": false
  }
 },
 "nbformat": 4,
 "nbformat_minor": 5
}
