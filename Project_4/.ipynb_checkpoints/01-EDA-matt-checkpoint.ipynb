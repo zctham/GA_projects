{
 "cells": [
  {
   "cell_type": "markdown",
   "id": "cc4b904e",
   "metadata": {},
   "source": [
    "# Project 4: Predict West Nile Virus\n",
    "> By: Esther Khor, Matthew Lio, Zhi Cong Tham\n",
    "---\n"
   ]
  },
  {
   "cell_type": "markdown",
   "id": "5afeb408",
   "metadata": {},
   "source": [
    "# 01. EDA\n",
    "---"
   ]
  },
  {
   "cell_type": "markdown",
   "id": "17aa2c41",
   "metadata": {},
   "source": [
    "## Library Imports"
   ]
  },
  {
   "cell_type": "code",
   "execution_count": 1,
   "id": "52072af3",
   "metadata": {},
   "outputs": [],
   "source": [
    "import pandas as pd\n",
    "import numpy as np\n",
    "import matplotlib.pyplot as plt\n",
    "import seaborn as sns\n",
    "\n",
    "from datetime import datetime\n",
    "from datetime import timedelta\n",
    "import matplotlib.ticker as ticker\n",
    "from sklearn.neighbors import KernelDensity\n",
    "# import pandas_profiling"
   ]
  },
  {
   "cell_type": "code",
   "execution_count": 3,
   "id": "32a97211",
   "metadata": {},
   "outputs": [
    {
     "ename": "FileNotFoundError",
     "evalue": "[Errno 2] No such file or directory: 'assets/data/test.csv'",
     "output_type": "error",
     "traceback": [
      "\u001b[1;31m---------------------------------------------------------------------------\u001b[0m",
      "\u001b[1;31mFileNotFoundError\u001b[0m                         Traceback (most recent call last)",
      "\u001b[1;32m<ipython-input-3-ca54d590d65f>\u001b[0m in \u001b[0;36m<module>\u001b[1;34m\u001b[0m\n\u001b[0;32m      1\u001b[0m \u001b[1;31m# import data\u001b[0m\u001b[1;33m\u001b[0m\u001b[1;33m\u001b[0m\u001b[1;33m\u001b[0m\u001b[0m\n\u001b[0;32m      2\u001b[0m \u001b[0mtrain\u001b[0m \u001b[1;33m=\u001b[0m \u001b[0mpd\u001b[0m\u001b[1;33m.\u001b[0m\u001b[0mread_csv\u001b[0m\u001b[1;33m(\u001b[0m\u001b[1;34m'assets/train.csv'\u001b[0m\u001b[1;33m)\u001b[0m\u001b[1;33m\u001b[0m\u001b[1;33m\u001b[0m\u001b[0m\n\u001b[1;32m----> 3\u001b[1;33m \u001b[0mtest\u001b[0m \u001b[1;33m=\u001b[0m \u001b[0mpd\u001b[0m\u001b[1;33m.\u001b[0m\u001b[0mread_csv\u001b[0m\u001b[1;33m(\u001b[0m\u001b[1;34m'assets/data/test.csv'\u001b[0m\u001b[1;33m)\u001b[0m\u001b[1;33m\u001b[0m\u001b[1;33m\u001b[0m\u001b[0m\n\u001b[0m\u001b[0;32m      4\u001b[0m \u001b[0mspray\u001b[0m \u001b[1;33m=\u001b[0m \u001b[0mpd\u001b[0m\u001b[1;33m.\u001b[0m\u001b[0mread_csv\u001b[0m\u001b[1;33m(\u001b[0m\u001b[1;34m'assets/data/spray.csv'\u001b[0m\u001b[1;33m)\u001b[0m\u001b[1;33m\u001b[0m\u001b[1;33m\u001b[0m\u001b[0m\n\u001b[0;32m      5\u001b[0m \u001b[0mweather\u001b[0m \u001b[1;33m=\u001b[0m \u001b[0mpd\u001b[0m\u001b[1;33m.\u001b[0m\u001b[0mread_csv\u001b[0m\u001b[1;33m(\u001b[0m\u001b[1;34m'assets/data/weather.csv'\u001b[0m\u001b[1;33m)\u001b[0m\u001b[1;33m\u001b[0m\u001b[1;33m\u001b[0m\u001b[0m\n",
      "\u001b[1;32m~\\anaconda3\\lib\\site-packages\\pandas\\io\\parsers.py\u001b[0m in \u001b[0;36mread_csv\u001b[1;34m(filepath_or_buffer, sep, delimiter, header, names, index_col, usecols, squeeze, prefix, mangle_dupe_cols, dtype, engine, converters, true_values, false_values, skipinitialspace, skiprows, skipfooter, nrows, na_values, keep_default_na, na_filter, verbose, skip_blank_lines, parse_dates, infer_datetime_format, keep_date_col, date_parser, dayfirst, cache_dates, iterator, chunksize, compression, thousands, decimal, lineterminator, quotechar, quoting, doublequote, escapechar, comment, encoding, dialect, error_bad_lines, warn_bad_lines, delim_whitespace, low_memory, memory_map, float_precision, storage_options)\u001b[0m\n\u001b[0;32m    608\u001b[0m     \u001b[0mkwds\u001b[0m\u001b[1;33m.\u001b[0m\u001b[0mupdate\u001b[0m\u001b[1;33m(\u001b[0m\u001b[0mkwds_defaults\u001b[0m\u001b[1;33m)\u001b[0m\u001b[1;33m\u001b[0m\u001b[1;33m\u001b[0m\u001b[0m\n\u001b[0;32m    609\u001b[0m \u001b[1;33m\u001b[0m\u001b[0m\n\u001b[1;32m--> 610\u001b[1;33m     \u001b[1;32mreturn\u001b[0m \u001b[0m_read\u001b[0m\u001b[1;33m(\u001b[0m\u001b[0mfilepath_or_buffer\u001b[0m\u001b[1;33m,\u001b[0m \u001b[0mkwds\u001b[0m\u001b[1;33m)\u001b[0m\u001b[1;33m\u001b[0m\u001b[1;33m\u001b[0m\u001b[0m\n\u001b[0m\u001b[0;32m    611\u001b[0m \u001b[1;33m\u001b[0m\u001b[0m\n\u001b[0;32m    612\u001b[0m \u001b[1;33m\u001b[0m\u001b[0m\n",
      "\u001b[1;32m~\\anaconda3\\lib\\site-packages\\pandas\\io\\parsers.py\u001b[0m in \u001b[0;36m_read\u001b[1;34m(filepath_or_buffer, kwds)\u001b[0m\n\u001b[0;32m    460\u001b[0m \u001b[1;33m\u001b[0m\u001b[0m\n\u001b[0;32m    461\u001b[0m     \u001b[1;31m# Create the parser.\u001b[0m\u001b[1;33m\u001b[0m\u001b[1;33m\u001b[0m\u001b[1;33m\u001b[0m\u001b[0m\n\u001b[1;32m--> 462\u001b[1;33m     \u001b[0mparser\u001b[0m \u001b[1;33m=\u001b[0m \u001b[0mTextFileReader\u001b[0m\u001b[1;33m(\u001b[0m\u001b[0mfilepath_or_buffer\u001b[0m\u001b[1;33m,\u001b[0m \u001b[1;33m**\u001b[0m\u001b[0mkwds\u001b[0m\u001b[1;33m)\u001b[0m\u001b[1;33m\u001b[0m\u001b[1;33m\u001b[0m\u001b[0m\n\u001b[0m\u001b[0;32m    463\u001b[0m \u001b[1;33m\u001b[0m\u001b[0m\n\u001b[0;32m    464\u001b[0m     \u001b[1;32mif\u001b[0m \u001b[0mchunksize\u001b[0m \u001b[1;32mor\u001b[0m \u001b[0miterator\u001b[0m\u001b[1;33m:\u001b[0m\u001b[1;33m\u001b[0m\u001b[1;33m\u001b[0m\u001b[0m\n",
      "\u001b[1;32m~\\anaconda3\\lib\\site-packages\\pandas\\io\\parsers.py\u001b[0m in \u001b[0;36m__init__\u001b[1;34m(self, f, engine, **kwds)\u001b[0m\n\u001b[0;32m    817\u001b[0m             \u001b[0mself\u001b[0m\u001b[1;33m.\u001b[0m\u001b[0moptions\u001b[0m\u001b[1;33m[\u001b[0m\u001b[1;34m\"has_index_names\"\u001b[0m\u001b[1;33m]\u001b[0m \u001b[1;33m=\u001b[0m \u001b[0mkwds\u001b[0m\u001b[1;33m[\u001b[0m\u001b[1;34m\"has_index_names\"\u001b[0m\u001b[1;33m]\u001b[0m\u001b[1;33m\u001b[0m\u001b[1;33m\u001b[0m\u001b[0m\n\u001b[0;32m    818\u001b[0m \u001b[1;33m\u001b[0m\u001b[0m\n\u001b[1;32m--> 819\u001b[1;33m         \u001b[0mself\u001b[0m\u001b[1;33m.\u001b[0m\u001b[0m_engine\u001b[0m \u001b[1;33m=\u001b[0m \u001b[0mself\u001b[0m\u001b[1;33m.\u001b[0m\u001b[0m_make_engine\u001b[0m\u001b[1;33m(\u001b[0m\u001b[0mself\u001b[0m\u001b[1;33m.\u001b[0m\u001b[0mengine\u001b[0m\u001b[1;33m)\u001b[0m\u001b[1;33m\u001b[0m\u001b[1;33m\u001b[0m\u001b[0m\n\u001b[0m\u001b[0;32m    820\u001b[0m \u001b[1;33m\u001b[0m\u001b[0m\n\u001b[0;32m    821\u001b[0m     \u001b[1;32mdef\u001b[0m \u001b[0mclose\u001b[0m\u001b[1;33m(\u001b[0m\u001b[0mself\u001b[0m\u001b[1;33m)\u001b[0m\u001b[1;33m:\u001b[0m\u001b[1;33m\u001b[0m\u001b[1;33m\u001b[0m\u001b[0m\n",
      "\u001b[1;32m~\\anaconda3\\lib\\site-packages\\pandas\\io\\parsers.py\u001b[0m in \u001b[0;36m_make_engine\u001b[1;34m(self, engine)\u001b[0m\n\u001b[0;32m   1048\u001b[0m             )\n\u001b[0;32m   1049\u001b[0m         \u001b[1;31m# error: Too many arguments for \"ParserBase\"\u001b[0m\u001b[1;33m\u001b[0m\u001b[1;33m\u001b[0m\u001b[1;33m\u001b[0m\u001b[0m\n\u001b[1;32m-> 1050\u001b[1;33m         \u001b[1;32mreturn\u001b[0m \u001b[0mmapping\u001b[0m\u001b[1;33m[\u001b[0m\u001b[0mengine\u001b[0m\u001b[1;33m]\u001b[0m\u001b[1;33m(\u001b[0m\u001b[0mself\u001b[0m\u001b[1;33m.\u001b[0m\u001b[0mf\u001b[0m\u001b[1;33m,\u001b[0m \u001b[1;33m**\u001b[0m\u001b[0mself\u001b[0m\u001b[1;33m.\u001b[0m\u001b[0moptions\u001b[0m\u001b[1;33m)\u001b[0m  \u001b[1;31m# type: ignore[call-arg]\u001b[0m\u001b[1;33m\u001b[0m\u001b[1;33m\u001b[0m\u001b[0m\n\u001b[0m\u001b[0;32m   1051\u001b[0m \u001b[1;33m\u001b[0m\u001b[0m\n\u001b[0;32m   1052\u001b[0m     \u001b[1;32mdef\u001b[0m \u001b[0m_failover_to_python\u001b[0m\u001b[1;33m(\u001b[0m\u001b[0mself\u001b[0m\u001b[1;33m)\u001b[0m\u001b[1;33m:\u001b[0m\u001b[1;33m\u001b[0m\u001b[1;33m\u001b[0m\u001b[0m\n",
      "\u001b[1;32m~\\anaconda3\\lib\\site-packages\\pandas\\io\\parsers.py\u001b[0m in \u001b[0;36m__init__\u001b[1;34m(self, src, **kwds)\u001b[0m\n\u001b[0;32m   1865\u001b[0m \u001b[1;33m\u001b[0m\u001b[0m\n\u001b[0;32m   1866\u001b[0m         \u001b[1;31m# open handles\u001b[0m\u001b[1;33m\u001b[0m\u001b[1;33m\u001b[0m\u001b[1;33m\u001b[0m\u001b[0m\n\u001b[1;32m-> 1867\u001b[1;33m         \u001b[0mself\u001b[0m\u001b[1;33m.\u001b[0m\u001b[0m_open_handles\u001b[0m\u001b[1;33m(\u001b[0m\u001b[0msrc\u001b[0m\u001b[1;33m,\u001b[0m \u001b[0mkwds\u001b[0m\u001b[1;33m)\u001b[0m\u001b[1;33m\u001b[0m\u001b[1;33m\u001b[0m\u001b[0m\n\u001b[0m\u001b[0;32m   1868\u001b[0m         \u001b[1;32massert\u001b[0m \u001b[0mself\u001b[0m\u001b[1;33m.\u001b[0m\u001b[0mhandles\u001b[0m \u001b[1;32mis\u001b[0m \u001b[1;32mnot\u001b[0m \u001b[1;32mNone\u001b[0m\u001b[1;33m\u001b[0m\u001b[1;33m\u001b[0m\u001b[0m\n\u001b[0;32m   1869\u001b[0m         \u001b[1;32mfor\u001b[0m \u001b[0mkey\u001b[0m \u001b[1;32min\u001b[0m \u001b[1;33m(\u001b[0m\u001b[1;34m\"storage_options\"\u001b[0m\u001b[1;33m,\u001b[0m \u001b[1;34m\"encoding\"\u001b[0m\u001b[1;33m,\u001b[0m \u001b[1;34m\"memory_map\"\u001b[0m\u001b[1;33m,\u001b[0m \u001b[1;34m\"compression\"\u001b[0m\u001b[1;33m)\u001b[0m\u001b[1;33m:\u001b[0m\u001b[1;33m\u001b[0m\u001b[1;33m\u001b[0m\u001b[0m\n",
      "\u001b[1;32m~\\anaconda3\\lib\\site-packages\\pandas\\io\\parsers.py\u001b[0m in \u001b[0;36m_open_handles\u001b[1;34m(self, src, kwds)\u001b[0m\n\u001b[0;32m   1360\u001b[0m         \u001b[0mLet\u001b[0m \u001b[0mthe\u001b[0m \u001b[0mreaders\u001b[0m \u001b[0mopen\u001b[0m \u001b[0mIOHanldes\u001b[0m \u001b[0mafter\u001b[0m \u001b[0mthey\u001b[0m \u001b[0mare\u001b[0m \u001b[0mdone\u001b[0m \u001b[1;32mwith\u001b[0m \u001b[0mtheir\u001b[0m \u001b[0mpotential\u001b[0m \u001b[0mraises\u001b[0m\u001b[1;33m.\u001b[0m\u001b[1;33m\u001b[0m\u001b[1;33m\u001b[0m\u001b[0m\n\u001b[0;32m   1361\u001b[0m         \"\"\"\n\u001b[1;32m-> 1362\u001b[1;33m         self.handles = get_handle(\n\u001b[0m\u001b[0;32m   1363\u001b[0m             \u001b[0msrc\u001b[0m\u001b[1;33m,\u001b[0m\u001b[1;33m\u001b[0m\u001b[1;33m\u001b[0m\u001b[0m\n\u001b[0;32m   1364\u001b[0m             \u001b[1;34m\"r\"\u001b[0m\u001b[1;33m,\u001b[0m\u001b[1;33m\u001b[0m\u001b[1;33m\u001b[0m\u001b[0m\n",
      "\u001b[1;32m~\\anaconda3\\lib\\site-packages\\pandas\\io\\common.py\u001b[0m in \u001b[0;36mget_handle\u001b[1;34m(path_or_buf, mode, encoding, compression, memory_map, is_text, errors, storage_options)\u001b[0m\n\u001b[0;32m    640\u001b[0m                 \u001b[0merrors\u001b[0m \u001b[1;33m=\u001b[0m \u001b[1;34m\"replace\"\u001b[0m\u001b[1;33m\u001b[0m\u001b[1;33m\u001b[0m\u001b[0m\n\u001b[0;32m    641\u001b[0m             \u001b[1;31m# Encoding\u001b[0m\u001b[1;33m\u001b[0m\u001b[1;33m\u001b[0m\u001b[1;33m\u001b[0m\u001b[0m\n\u001b[1;32m--> 642\u001b[1;33m             handle = open(\n\u001b[0m\u001b[0;32m    643\u001b[0m                 \u001b[0mhandle\u001b[0m\u001b[1;33m,\u001b[0m\u001b[1;33m\u001b[0m\u001b[1;33m\u001b[0m\u001b[0m\n\u001b[0;32m    644\u001b[0m                 \u001b[0mioargs\u001b[0m\u001b[1;33m.\u001b[0m\u001b[0mmode\u001b[0m\u001b[1;33m,\u001b[0m\u001b[1;33m\u001b[0m\u001b[1;33m\u001b[0m\u001b[0m\n",
      "\u001b[1;31mFileNotFoundError\u001b[0m: [Errno 2] No such file or directory: 'assets/data/test.csv'"
     ]
    }
   ],
   "source": [
    "# import data\n",
    "train = pd.read_csv('assets/train.csv')\n",
    "test = pd.read_csv('assets/test.csv')\n",
    "spray = pd.read_csv('assets/dspray.csv')\n",
    "weather = pd.read_csv('assets/data/weather.csv')"
   ]
  },
  {
   "cell_type": "code",
   "execution_count": null,
   "id": "a5ca333f",
   "metadata": {},
   "outputs": [],
   "source": [
    "print(train.shape)\n",
    "print(test.shape)\n",
    "print(spray.shape)\n",
    "print(weather.shape)"
   ]
  },
  {
   "cell_type": "markdown",
   "id": "f6c87281",
   "metadata": {},
   "source": [
    "## Functions"
   ]
  },
  {
   "cell_type": "code",
   "execution_count": null,
   "id": "a739f0f5",
   "metadata": {},
   "outputs": [],
   "source": [
    "# Function to explore null values, duplicates and datatypes, convert time datatype, lowercase columns\n",
    "def explore(data):\n",
    "    \n",
    "    # Converting Date to datetime\n",
    "    data['Date'] = pd.to_datetime(data['Date'])\n",
    "    \n",
    "    # print dataset info\n",
    "    print(data.info())\n",
    "\n",
    "    # lowercase all column names\n",
    "    data.columns = [i.lower() for i in data.columns]\n",
    " \n",
    "    # show number of duplicate values\n",
    "    print(f'\\n{data[data.duplicated(keep = False)].shape[0]} number of duplicated rows.')\n",
    "\n",
    "    return data"
   ]
  },
  {
   "cell_type": "markdown",
   "id": "00277703",
   "metadata": {},
   "source": [
    "## train dataset"
   ]
  },
  {
   "cell_type": "code",
   "execution_count": null,
   "id": "c4a1f4bd",
   "metadata": {},
   "outputs": [],
   "source": [
    "train.head(1)"
   ]
  },
  {
   "cell_type": "code",
   "execution_count": null,
   "id": "68b68dcc",
   "metadata": {},
   "outputs": [],
   "source": [
    "train.info()"
   ]
  },
  {
   "cell_type": "markdown",
   "id": "081bef42",
   "metadata": {},
   "source": [
    "Now, let's use our 'explore' function on our 'train' dataset:\n",
    "1. Convert 'Date' column from object dtype to datetime dtype.\n",
    "2. Lowercase all the columns in our dataset\n",
    "3. Show us how many duplicate rows there are"
   ]
  },
  {
   "cell_type": "code",
   "execution_count": null,
   "id": "260584f3",
   "metadata": {},
   "outputs": [],
   "source": [
    "explore(train)"
   ]
  },
  {
   "cell_type": "markdown",
   "id": "8b10f5f9",
   "metadata": {},
   "source": [
    "No null values. However there are a lot of duplicates, which we think might be because of the way the test results were organized. When the number of mosquitoes exceed 50, they are split into another record (another row in the dataset), such that the number of mosquitoes are capped at 50. This would mean that if an area has 100 or more mosquitoes, there will be duplicates. We need to merge the number of mosquitoes such that each row shows the total number of mosquitoes in their own respective area/address."
   ]
  },
  {
   "cell_type": "code",
   "execution_count": null,
   "id": "e0ca6bbd",
   "metadata": {},
   "outputs": [],
   "source": [
    "# Add year, month, week and day of week features\n",
    "train['year'] = train['date'].apply(lambda x: x.year)\n",
    "train['month'] = train['date'].apply(lambda x: x.month)\n",
    "train['week'] = train['date'].apply(lambda x: x.week)\n",
    "train['dayofweek'] = train['date'].apply(lambda x: x.dayofweek)"
   ]
  },
  {
   "cell_type": "code",
   "execution_count": null,
   "id": "9085a87e",
   "metadata": {},
   "outputs": [],
   "source": [
    "train"
   ]
  },
  {
   "cell_type": "markdown",
   "id": "4952fd95",
   "metadata": {},
   "source": [
    "### Combine mosquitoes count"
   ]
  },
  {
   "cell_type": "code",
   "execution_count": null,
   "id": "479993b4",
   "metadata": {},
   "outputs": [],
   "source": [
    "# using groupby on all columns except for 'nummosquitos', 'wnvpresent'\n",
    "# and then sum the numbers\n",
    "train = train.groupby([col for col in train.columns if col not in ['nummosquitos', 'wnvpresent']]).sum()\n",
    "train.reset_index(inplace=True)\n",
    "\n",
    "# form wnvpresent to 0 and 1 again\n",
    "train['wnvpresent'] = train['wnvpresent'].map(lambda x : 1 if x > 0 else x)\n",
    "\n",
    "train"
   ]
  },
  {
   "cell_type": "code",
   "execution_count": null,
   "id": "016a0216",
   "metadata": {},
   "outputs": [],
   "source": [
    "# checking number of duplicated rows\n",
    "print(f'{train[train.duplicated(keep = False)].shape[0]} number of duplicated rows.')"
   ]
  },
  {
   "cell_type": "code",
   "execution_count": null,
   "id": "79f27e20",
   "metadata": {},
   "outputs": [],
   "source": [
    "train.info()"
   ]
  },
  {
   "cell_type": "markdown",
   "id": "a9b5c5f6",
   "metadata": {},
   "source": [
    "### Mosquito Species"
   ]
  },
  {
   "cell_type": "code",
   "execution_count": null,
   "id": "5467cf3d",
   "metadata": {
    "scrolled": false
   },
   "outputs": [],
   "source": [
    "# how many samples containing WNV for each species?\n",
    "mos_wnv = train[['species', 'nummosquitos', 'wnvpresent']].groupby(by='species').sum()\n",
    "\n",
    "mos_wnv = mos_wnv.sort_values(by='wnvpresent', ascending = False)\n",
    "mos_wnv.reset_index(inplace=True)\n",
    "\n",
    "# creating sample count dataframe\n",
    "sample_count = train[\"species\"].value_counts()\n",
    "sample_count = pd.DataFrame(sample_count)\n",
    "sample_count.reset_index(inplace=True)\n",
    "sample_count.rename(columns = {'index':'species',\n",
    "                    'species':'sample_count'},\n",
    "                   inplace=True)\n",
    "\n",
    "# merging WNV df with sample count df\n",
    "wnv_occurance = pd.merge(mos_wnv,sample_count)\n",
    "display(wnv_occurance)\n",
    "\n",
    "\n",
    "# --- Plots for vizualisation ---\n",
    "\n",
    "# Plot: Number of mosquito samples for each species\n",
    "train['species'].value_counts(ascending=True).plot(kind='barh', figsize=(7,5))\n",
    "plt.title('Number of mosquito samples for each species', fontsize=14);\n",
    "\n",
    "# Plot: How many samples containing WNV for each species?\n",
    "mos_wnv = mos_wnv.sort_values(by='wnvpresent', ascending=True)\n",
    "plt.figure(figsize=(7,5))\n",
    "plt.barh(mos_wnv['species'], mos_wnv['wnvpresent'], height=0.5)\n",
    "plt.title('Number of mosquito samples containing WNV', fontsize=14);"
   ]
  },
  {
   "cell_type": "markdown",
   "id": "91d75628",
   "metadata": {},
   "source": [
    "The above table shows the number of sample counts for each species of mosquito, as well as how many of these samples contain WNV. We can immediately tell that the 2 most common species of mosquitoes are the Culex Pipiens and Culex Restuans, and samples containing both these species are the most common in Chicago. They are also the only 2 species that carry WNV.\n",
    "\n",
    "The table also shows us that, the total number of Culex Pipiens is almost 2 times more than the Culex Restuans. However, they have lesser sample counts, which may suggest that the population of Culex Pipiens is higher in each sample/cluster. There were much more Culex Pipiens samples that are WNV-present.\n",
    "\n",
    "Overall, Culex Pipiens could be considered the most dangerous specie due to having the highest proportion of WNV-present samples."
   ]
  },
  {
   "cell_type": "markdown",
   "id": "eabe910e",
   "metadata": {},
   "source": [
    "### Presence of WNV "
   ]
  },
  {
   "cell_type": "code",
   "execution_count": null,
   "id": "827aa109",
   "metadata": {},
   "outputs": [],
   "source": [
    "plt.figure(figsize=(11.5,5))\n",
    "sns.lineplot(data = train, x='month', y='wnvpresent', hue='year', ci = None, palette='Dark2')\n",
    "plt.legend(fontsize = 13)\n",
    "plt.title('Monthly WNV occurrences by year', fontsize=16)\n",
    "plt.xlabel('Month',fontsize=14)\n",
    "plt.ylabel('WNV occurrences',fontsize=14)"
   ]
  },
  {
   "cell_type": "markdown",
   "id": "7cd1315e",
   "metadata": {},
   "source": [
    "From the lines in the plot above, the year with the highest WNV occurences is 2013, followed by 2007. It is generally quite low in the years 2009 and 2011.\n",
    "\n",
    "A pattern can also be observed here. WNV occurences start at around June, and rise rapidly from July onwards. August is the peak month with the most WNV occurence for all years. Thereafter, the occurences start to reduce through September and cease from October.\n",
    "\n",
    "June to August are the summer months in Chicago, when it is the hottest in the year. Our first guess would be that the weather and hot temperature during the summer season increase the breeding of mosquitoes and which in turn increase the number of WNV occurences. We will next explore the number of mosquitoes and number of WNV cases and see if the relationship is true."
   ]
  },
  {
   "cell_type": "markdown",
   "id": "6070c2fe",
   "metadata": {},
   "source": [
    "### Number of mosquitoes vs number of WNV cases"
   ]
  },
  {
   "cell_type": "code",
   "execution_count": null,
   "id": "4b5d2282",
   "metadata": {},
   "outputs": [],
   "source": [
    "fig, ax = plt.subplots(nrows=2, ncols=2, figsize=(20,15))\n",
    "ax = ax.ravel()\n",
    "plt.suptitle('Number of WNV samples per week per year', fontsize=20, y=1.05)\n",
    "for i, y in enumerate(train['year'].unique()):\n",
    "    train[train['year']==y].groupby(['week'])['wnvpresent'].sum().plot.bar(ax=ax[i])\n",
    "    ax[i].set_title(y)\n",
    "    ax[i].tick_params(axis='x', labelrotation=0)\n",
    "    ax[i].grid(linestyle='--')\n",
    "plt.tight_layout()"
   ]
  },
  {
   "cell_type": "markdown",
   "id": "7d64af77",
   "metadata": {},
   "source": [
    "The above 4 bar charts for years 2007, 2009, 2011 and 2013 show a much more in-depth visual than the line plot we discussed earlier, as the number of WNV cases are split per week instead of per month. This in-depth analysis shows us that WNV cases appear from around weeks 30 to 39. Years 2007 and 2013 have extended weeks and a lot more cases as compared to years 2009 and 2011."
   ]
  },
  {
   "cell_type": "code",
   "execution_count": null,
   "id": "6b21d20d",
   "metadata": {},
   "outputs": [],
   "source": [
    "fig, ax = plt.subplots(nrows=2, ncols=2, figsize=(20,15))\n",
    "ax = ax.ravel()\n",
    "plt.suptitle('Number of mosquitoes per week per year', fontsize=20, y=1.05)\n",
    "for i, y in enumerate(train['year'].unique()):\n",
    "    train[train['year']==y].groupby(['week'])['nummosquitos'].sum().plot.bar(ax=ax[i])\n",
    "    ax[i].set_title(y)\n",
    "    ax[i].tick_params(axis='x', labelrotation=0)\n",
    "    ax[i].grid(linestyle='--')\n",
    "plt.tight_layout()"
   ]
  },
  {
   "cell_type": "markdown",
   "id": "e82d780d",
   "metadata": {},
   "source": [
    "Above plots show bar charts for number of mosquitoes collected from samples per week for years 2007, 2009, 2011 and 2013. It seems like the mosquitoes start to appear at week 23 (start of June) all the way to week 40 (October). This length of time is longer than the WNV cases detected from each sample.\n",
    "\n",
    "In addition, high number of mosquitoes per week generally happens **earlier** than high number of WNV cases. Most years have the highest number of mosquitoes at week 28-29, while peak WNV cases are at around week 34-35 (excluding year 2011 with peak WNV at week 30)."
   ]
  },
  {
   "cell_type": "code",
   "execution_count": null,
   "id": "de1ab4fe",
   "metadata": {},
   "outputs": [],
   "source": [
    "for yr in train['year'].unique():\n",
    "    fig, ax1 = plt.subplots(figsize=(10,5))\n",
    "       \n",
    "    # bar plot for WNV presence\n",
    "    kwargs = {'alpha': 0.5}\n",
    "    sns.barplot(x = train[train['year'] == yr]['week'], y = train[train['year'] == yr]['wnvpresent']*100,\n",
    "                ci=None, color='cornflowerblue', label='WNVpresent', ax=ax1)\n",
    "    ax1.set_xlabel('Week', fontsize=13)\n",
    "    ax1.set_ylabel('WNV presence (%)', fontsize=13, color='blue')\n",
    "    ax1.legend(loc=2)\n",
    "    ax1.set_xticklabels(ax1.get_xticklabels());\n",
    "    \n",
    "    train[train['year'] == yr]['week'].plot.density(color='green')\n",
    "    \n",
    "#     # density curve for WNV presence\n",
    "#     sns.distplot(x = train[train['year'] == yr]['week'], hist = False, kde = True,\n",
    "#                  kde_kws = {'linewidth': 3},\n",
    "#                  label = 'WNVpresent')\n",
    "    \n",
    "    \n",
    "    # setting up dataframe for plotting\n",
    "    no_mosquito = train[train['year'] == yr].groupby(['week'])['nummosquitos'].sum()\n",
    "    df_no_mosquito = pd.DataFrame(no_mosquito)\n",
    "\n",
    "    # bar plot for NumMosquitos\n",
    "    ax2 = ax1.twinx()\n",
    "    sns.barplot(x = df_no_mosquito.index, y = df_no_mosquito['nummosquitos'],\n",
    "                ci=None, color='black', linewidth=2.5, label='NumMosquitos', ax=ax2, **kwargs, fill=False)\n",
    "    ax2.set_ylabel('NumMosquitos', fontsize=13, color='black')\n",
    "    ax2.legend(loc=1)\n",
    "\n",
    "    plt.title(f'Number of Mosquitoes and WNV Occurences in {yr}')\n",
    "    \n",
    "    plt.grid(linestyle='--')\n",
    "    fig.tight_layout()"
   ]
  },
  {
   "cell_type": "markdown",
   "id": "92cd4ad3",
   "metadata": {},
   "source": [
    "Above bar plots combine number of mosquitoes and number of WNV cases per week per year. It seems like high proportion of WNV cases and high number of mosquitoes do not happen together. High proportion of WNV cases happen much later, at weeks 30 to 39. High number of mosquitoes peak earlier at around week 28 to 29.\n",
    "\n",
    "This pattern is hard to explain, as initial thoughts would be for both number of mosquitoes and WNV occurences to be highly correlated. We will explore other datasets to see if we can make sense of this pattern."
   ]
  },
  {
   "cell_type": "code",
   "execution_count": null,
   "id": "b39091ce",
   "metadata": {},
   "outputs": [],
   "source": []
  },
  {
   "cell_type": "code",
   "execution_count": null,
   "id": "75f72b47",
   "metadata": {},
   "outputs": [],
   "source": []
  },
  {
   "cell_type": "markdown",
   "id": "056ec1a5",
   "metadata": {},
   "source": [
    "## Workings"
   ]
  },
  {
   "cell_type": "code",
   "execution_count": null,
   "id": "9fe5af24",
   "metadata": {},
   "outputs": [],
   "source": [
    "# density curve for WNV presence\n",
    "sns.distplot(x = train[train['year'] == yr]['week'], hist = False, kde = True,\n",
    "                 kde_kws = {'linewidth': 3},\n",
    "                 label = 'WNVpresent')"
   ]
  },
  {
   "cell_type": "code",
   "execution_count": null,
   "id": "6b05121a",
   "metadata": {},
   "outputs": [],
   "source": [
    "df = sns.load_dataset('iris')\n",
    "\n",
    "plt.subplots(figsize=(7,6), dpi=100)\n",
    "sns.distplot( df.loc[df.species=='setosa', \"sepal_length\"] , color=\"dodgerblue\", label=\"Setosa\")\n",
    "sns.distplot( df.loc[df.species=='virginica', \"sepal_length\"] , color=\"orange\", label=\"virginica\")\n",
    "sns.distplot( df.loc[df.species=='versicolor', \"sepal_length\"] , color=\"deeppink\", label=\"versicolor\")\n",
    "\n",
    "plt.title('Iris Histogram')\n",
    "plt.legend();"
   ]
  },
  {
   "cell_type": "code",
   "execution_count": null,
   "id": "93f64823",
   "metadata": {},
   "outputs": [],
   "source": [
    "asd\n",
    "\n",
    "# Below ones park there first"
   ]
  },
  {
   "cell_type": "code",
   "execution_count": null,
   "id": "fda8bc94",
   "metadata": {},
   "outputs": [],
   "source": [
    "# Below codes for map plot for spray locations"
   ]
  },
  {
   "cell_type": "code",
   "execution_count": null,
   "id": "53705943",
   "metadata": {},
   "outputs": [],
   "source": [
    "alpha_cm = plt.cm.Oranges\n",
    "alpha_cm._init()\n",
    "alpha_cm._lut[:-3,-1] = abs(np.logspace(0, 1, alpha_cm.N) / 10 - 1)[::-1]\n",
    "\n",
    "aspect = mapdata.shape[0] * 1.0 / mapdata.shape[1]\n",
    "\n",
    "lon_lat_box = (-88, -87.5, 41.6, 42.1)\n",
    "\n",
    "# Spray location\n",
    "X = spray[['longitude', 'latitude']].drop_duplicates().values\n",
    "kd = KernelDensity(bandwidth=0.015)\n",
    "kd.fit(X)\n",
    "\n",
    "xv,yv = np.meshgrid(np.linspace(-88, -87.5, 100), np.linspace(41.6, 42.1, 100))\n",
    "gridpoints = np.array([xv.ravel(),yv.ravel()]).T\n",
    "zv = np.exp(kd.score_samples(gridpoints).reshape(100,100))\n",
    "\n",
    "#kernel density\n",
    "plt.figure(figsize=(10,14))\n",
    "plt.imshow(mapdata, cmap=plt.get_cmap('gray'), extent=lon_lat_box, aspect=aspect)\n",
    "plt.imshow(zv, origin='lower', cmap=alpha_cm, extent=lon_lat_box, aspect=aspect)\n",
    "\n",
    "# trap locations\n",
    "trap_locations = train[['longitude', 'latitude']].drop_duplicates().values\n",
    "plt.scatter(trap_locations[:,0], trap_locations[:,1], marker='o', c='b', label='Trap Locations')\n",
    "\n",
    "# wnn outbreak locations\n",
    "wnv_locations = train[train['wnvpresent'] != 0][['longitude', 'latitude']].drop_duplicates().values\n",
    "plt.scatter(wnv_locations[:,0], wnv_locations[:,1], marker='*', c='r', label='WNV Outbreak Locations')\n",
    "\n",
    "plt.title('Spray Locations in Chicago', fontsize=25)\n",
    "plt.legend(fontsize=15)\n",
    "plt.xlabel('Longitude', fontsize=13)\n",
    "plt.ylabel('Latitude', fontsize=13)\n",
    "plt.savefig('Spray Locations.png')"
   ]
  },
  {
   "cell_type": "code",
   "execution_count": null,
   "id": "1b74fc59",
   "metadata": {},
   "outputs": [],
   "source": [
    "# Below codes for WNV outbreak locations"
   ]
  },
  {
   "cell_type": "code",
   "execution_count": null,
   "id": "b9d7475d",
   "metadata": {},
   "outputs": [],
   "source": [
    "alpha_cm1 = plt.cm.Reds\n",
    "alpha_cm1._init()\n",
    "alpha_cm1._lut[:-3,-1] = abs(np.logspace(0, 1, alpha_cm1.N) / 10 - 1)[::-1]\n",
    "\n",
    "aspect = mapdata.shape[0] * 1.0 / mapdata.shape[1]\n",
    "\n",
    "lon_lat_box = (-88, -87.5, 41.6, 42.1)\n",
    "\n",
    "#Traps where only WNV is present\n",
    "wnv = train[train['wnvpresent'] == 1]\n",
    "wnv = wnv.groupby(['date', 'trap','longitude', 'latitude']).max()['wnvpresent'].reset_index()\n",
    "X1 = wnv[['longitude', 'latitude']].values\n",
    "kd1 = KernelDensity(bandwidth=0.015)\n",
    "kd1.fit(X1)\n",
    "\n",
    "xv,yv = np.meshgrid(np.linspace(-88, -87.5, 100), np.linspace(41.6, 42.1, 100))\n",
    "gridpoints = np.array([xv.ravel(),yv.ravel()]).T\n",
    "zv1 = np.exp(kd1.score_samples(gridpoints).reshape(100,100))\n",
    "\n",
    "#kernel density\n",
    "plt.figure(figsize=(10,14))\n",
    "plt.imshow(mapdata, cmap=plt.get_cmap('gray'), extent=lon_lat_box, aspect=aspect)\n",
    "plt.imshow(zv1, origin='lower', cmap=alpha_cm1, extent=lon_lat_box, aspect=aspect)\n",
    "\n",
    "# trap locations\n",
    "trap_locations = train[['longitude', 'latitude']].drop_duplicates().values\n",
    "plt.scatter(trap_locations[:,0], trap_locations[:,1], marker='o', c='b', label='trap locations')\n",
    "\n",
    "# wnn outbreak locations\n",
    "wnv_locations = train[train['wnvpresent'] != 0][['longitude', 'latitude']].drop_duplicates().values\n",
    "plt.scatter(wnv_locations[:,0], wnv_locations[:,1], marker='*', c='r', label='WNV Outbreak Locations')\n",
    "\n",
    "plt.title('WNV Outbreak Locations in Chicago', fontsize = 22)\n",
    "plt.legend(fontsize=15)\n",
    "plt.xlabel('Longitude', fontsize=13)\n",
    "plt.ylabel('Latitude', fontsize=13)\n",
    "plt.savefig('WNV Outbreak Locations.png')"
   ]
  }
 ],
 "metadata": {
  "kernelspec": {
   "display_name": "Python 3",
   "language": "python",
   "name": "python3"
  },
  "language_info": {
   "codemirror_mode": {
    "name": "ipython",
    "version": 3
   },
   "file_extension": ".py",
   "mimetype": "text/x-python",
   "name": "python",
   "nbconvert_exporter": "python",
   "pygments_lexer": "ipython3",
   "version": "3.8.8"
  },
  "toc": {
   "base_numbering": 1,
   "nav_menu": {},
   "number_sections": true,
   "sideBar": true,
   "skip_h1_title": false,
   "title_cell": "Table of Contents",
   "title_sidebar": "Contents",
   "toc_cell": false,
   "toc_position": {},
   "toc_section_display": true,
   "toc_window_display": true
  },
  "varInspector": {
   "cols": {
    "lenName": 16,
    "lenType": 16,
    "lenVar": 40
   },
   "kernels_config": {
    "python": {
     "delete_cmd_postfix": "",
     "delete_cmd_prefix": "del ",
     "library": "var_list.py",
     "varRefreshCmd": "print(var_dic_list())"
    },
    "r": {
     "delete_cmd_postfix": ") ",
     "delete_cmd_prefix": "rm(",
     "library": "var_list.r",
     "varRefreshCmd": "cat(var_dic_list()) "
    }
   },
   "types_to_exclude": [
    "module",
    "function",
    "builtin_function_or_method",
    "instance",
    "_Feature"
   ],
   "window_display": false
  }
 },
 "nbformat": 4,
 "nbformat_minor": 5
}
